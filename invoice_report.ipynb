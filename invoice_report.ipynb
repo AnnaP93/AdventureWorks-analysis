{
 "cells": [
  {
   "cell_type": "markdown",
   "metadata": {
    "collapsed": true,
    "pycharm": {
     "name": "#%% md\n"
    }
   },
   "source": [
    "### Generating reports for invoicing purposes."
   ]
  },
  {
   "cell_type": "code",
   "execution_count": 6,
   "metadata": {
    "pycharm": {
     "name": "#%%\n"
    }
   },
   "outputs": [],
   "source": [
    "import pyodbc\n",
    "import os\n",
    "from IPython.core.display import display\n",
    "from dotenv import load_dotenv\n",
    "import pandas as pd"
   ]
  },
  {
   "cell_type": "markdown",
   "metadata": {
    "pycharm": {
     "name": "#%% md\n"
    }
   },
   "source": [
    "Connecting to SQL Server\n"
   ]
  },
  {
   "cell_type": "code",
   "execution_count": 7,
   "metadata": {
    "pycharm": {
     "name": "#%%\n"
    }
   },
   "outputs": [],
   "source": [
    "load_dotenv('credentials.env')\n",
    "\n",
    "conn = pyodbc.connect(\n",
    "    'DRIVER={ODBC Driver 17 for SQL Server};'\n",
    "    'SERVER='+os.environ.get('server')+';'\n",
    "    'DATABASE='+os.environ.get('database')+';'\n",
    "    'UID='+ os.environ.get('uid') +';'\n",
    "    'PWD='+ os.environ.get('pwd')+';')"
   ]
  },
  {
   "cell_type": "markdown",
   "metadata": {
    "pycharm": {
     "name": "#%% md\n"
    }
   },
   "source": [
    "\n",
    "#### 1. Retrieve customer orders (store names, sales order ID, store address and the total due).\n"
   ]
  },
  {
   "cell_type": "code",
   "execution_count": 8,
   "metadata": {
    "pycharm": {
     "name": "#%%\n"
    }
   },
   "outputs": [
    {
     "data": {
      "text/plain": "                      StoreName  SalesOrderID          AddressLine1  \\\n0                  A Bike Store         43860  2545 N.W. 107th Ave.   \n1                  A Bike Store         44501  2545 N.W. 107th Ave.   \n2                  A Bike Store         45283  2545 N.W. 107th Ave.   \n3                  A Bike Store         46042  2545 N.W. 107th Ave.   \n4     Acclaimed Bicycle Company         53618              5 Madrid   \n...                         ...           ...                   ...   \n2308          Year-Round Sports         47051     Fsa Outlet Center   \n2309          Year-Round Sports         46098     Fsa Outlet Center   \n2310          Year-Round Sports         45336     Fsa Outlet Center   \n2311          Year-Round Sports         43909     Fsa Outlet Center   \n2312          Year-Round Sports         44561     Fsa Outlet Center   \n\n           City      Region PostalCode    TotalDue  \n0         Miami     Florida      33127  12381.0798  \n1         Miami     Florida      33127  22152.2446  \n2         Miami     Florida      33127  31972.1684  \n3         Miami     Florida      33127  29418.5269  \n4       Concord  California      94519   3931.9148  \n...         ...         ...        ...         ...  \n2308  Nashville   Tennessee      37203     23.1773  \n2309  Nashville   Tennessee      37203  57825.5764  \n2310  Nashville   Tennessee      37203  30762.7429  \n2311  Nashville   Tennessee      37203  28723.5473  \n2312  Nashville   Tennessee      37203  47348.8150  \n\n[2313 rows x 7 columns]",
      "text/html": "<div>\n<style scoped>\n    .dataframe tbody tr th:only-of-type {\n        vertical-align: middle;\n    }\n\n    .dataframe tbody tr th {\n        vertical-align: top;\n    }\n\n    .dataframe thead th {\n        text-align: right;\n    }\n</style>\n<table border=\"1\" class=\"dataframe\">\n  <thead>\n    <tr style=\"text-align: right;\">\n      <th></th>\n      <th>StoreName</th>\n      <th>SalesOrderID</th>\n      <th>AddressLine1</th>\n      <th>City</th>\n      <th>Region</th>\n      <th>PostalCode</th>\n      <th>TotalDue</th>\n    </tr>\n  </thead>\n  <tbody>\n    <tr>\n      <th>0</th>\n      <td>A Bike Store</td>\n      <td>43860</td>\n      <td>2545 N.W. 107th Ave.</td>\n      <td>Miami</td>\n      <td>Florida</td>\n      <td>33127</td>\n      <td>12381.0798</td>\n    </tr>\n    <tr>\n      <th>1</th>\n      <td>A Bike Store</td>\n      <td>44501</td>\n      <td>2545 N.W. 107th Ave.</td>\n      <td>Miami</td>\n      <td>Florida</td>\n      <td>33127</td>\n      <td>22152.2446</td>\n    </tr>\n    <tr>\n      <th>2</th>\n      <td>A Bike Store</td>\n      <td>45283</td>\n      <td>2545 N.W. 107th Ave.</td>\n      <td>Miami</td>\n      <td>Florida</td>\n      <td>33127</td>\n      <td>31972.1684</td>\n    </tr>\n    <tr>\n      <th>3</th>\n      <td>A Bike Store</td>\n      <td>46042</td>\n      <td>2545 N.W. 107th Ave.</td>\n      <td>Miami</td>\n      <td>Florida</td>\n      <td>33127</td>\n      <td>29418.5269</td>\n    </tr>\n    <tr>\n      <th>4</th>\n      <td>Acclaimed Bicycle Company</td>\n      <td>53618</td>\n      <td>5 Madrid</td>\n      <td>Concord</td>\n      <td>California</td>\n      <td>94519</td>\n      <td>3931.9148</td>\n    </tr>\n    <tr>\n      <th>...</th>\n      <td>...</td>\n      <td>...</td>\n      <td>...</td>\n      <td>...</td>\n      <td>...</td>\n      <td>...</td>\n      <td>...</td>\n    </tr>\n    <tr>\n      <th>2308</th>\n      <td>Year-Round Sports</td>\n      <td>47051</td>\n      <td>Fsa Outlet Center</td>\n      <td>Nashville</td>\n      <td>Tennessee</td>\n      <td>37203</td>\n      <td>23.1773</td>\n    </tr>\n    <tr>\n      <th>2309</th>\n      <td>Year-Round Sports</td>\n      <td>46098</td>\n      <td>Fsa Outlet Center</td>\n      <td>Nashville</td>\n      <td>Tennessee</td>\n      <td>37203</td>\n      <td>57825.5764</td>\n    </tr>\n    <tr>\n      <th>2310</th>\n      <td>Year-Round Sports</td>\n      <td>45336</td>\n      <td>Fsa Outlet Center</td>\n      <td>Nashville</td>\n      <td>Tennessee</td>\n      <td>37203</td>\n      <td>30762.7429</td>\n    </tr>\n    <tr>\n      <th>2311</th>\n      <td>Year-Round Sports</td>\n      <td>43909</td>\n      <td>Fsa Outlet Center</td>\n      <td>Nashville</td>\n      <td>Tennessee</td>\n      <td>37203</td>\n      <td>28723.5473</td>\n    </tr>\n    <tr>\n      <th>2312</th>\n      <td>Year-Round Sports</td>\n      <td>44561</td>\n      <td>Fsa Outlet Center</td>\n      <td>Nashville</td>\n      <td>Tennessee</td>\n      <td>37203</td>\n      <td>47348.8150</td>\n    </tr>\n  </tbody>\n</table>\n<p>2313 rows × 7 columns</p>\n</div>"
     },
     "metadata": {},
     "output_type": "display_data"
    }
   ],
   "source": [
    "customer_orders_df = pd.read_sql(\"SELECT store.Name AS StoreName, \"\n",
    "                                 \"header.SalesOrderID, \"\n",
    "                                 \"final_adress.AddressLine1, \"\n",
    "                                 \"final_adress.City, \"\n",
    "                                 \"province.Name AS Region, \"\n",
    "                                 \"final_adress.PostalCode, \"\n",
    "                                 \"header.TotalDue \"\n",
    "                                 \"FROM Sales.Customer AS customer \"\n",
    "                                 \"JOIN Sales.Store AS store \"\n",
    "                                 \"ON customer.StoreID = store.BusinessEntityID \"\n",
    "                                 \"JOIN Sales.SalesOrderHeader AS header \"\n",
    "                                 \"ON customer.CustomerID = header.CustomerID \"\n",
    "                                 \"JOIN Person.BusinessEntity AS entity \"\n",
    "                                 \"ON store.BusinessEntityID = entity.BusinessEntityID \"\n",
    "                                 \"JOIN Person.BusinessEntityAddress AS entity_address \"\n",
    "                                 \"ON entity.BusinessEntityID = entity_address.BusinessEntityID \"\n",
    "                                 \"JOIN Person.Address AS final_adress \"\n",
    "                                 \"ON entity_address.BusinessEntityID = final_adress.AddressID \"\n",
    "                                 \"JOIN Person.AddressType AS address_type \"\n",
    "                                 \"ON entity_address.AddressTypeID = address_type.AddressTypeID \"\n",
    "                                 \"JOIN Person.StateProvince AS province \"\n",
    "                                 \"ON final_adress.StateProvinceID = province.StateProvinceID \"\n",
    "                                 \"ORDER BY StoreName\", conn)\n",
    "\n",
    "display(customer_orders_df)"
   ]
  },
  {
   "cell_type": "markdown",
   "metadata": {},
   "source": [
    "\n",
    "#### 2. Retrieve stores' names, respective salespeople who work there, their full name and contact information\n"
   ]
  },
  {
   "cell_type": "code",
   "execution_count": 9,
   "metadata": {},
   "outputs": [
    {
     "data": {
      "text/plain": "                     StoreName               FullName  \\\n0        A Bicycle Association       Michael G Blythe   \n1                 A Bike Store  Pamela O Ansman-Wolfe   \n2                 A Cycle Shop       David R Campbell   \n3      A Great Bicycle Company         Jillian Carson   \n4          A Typical Bike Shop         Jillian Carson   \n..                         ...                    ...   \n696  World Bike Discount Store       Linda C Mitchell   \n697             World of Bikes         Jillian Carson   \n698  Worthwhile Activity Store    Tsvi Michael Reiter   \n699          Year-Round Sports       David R Campbell   \n700     Yellow Bicycle Company         Jillian Carson   \n\n                     EmailAddress   PhoneNumber  \n0    michael9@adventure-works.com  257-555-0154  \n1     pamela0@adventure-works.com  340-555-0193  \n2      david8@adventure-works.com  740-555-0182  \n3    jillian0@adventure-works.com  517-555-0117  \n4    jillian0@adventure-works.com  517-555-0117  \n..                            ...           ...  \n696    linda3@adventure-works.com  883-555-0116  \n697  jillian0@adventure-works.com  517-555-0117  \n698     tsvi0@adventure-works.com  664-555-0112  \n699    david8@adventure-works.com  740-555-0182  \n700  jillian0@adventure-works.com  517-555-0117  \n\n[701 rows x 4 columns]",
      "text/html": "<div>\n<style scoped>\n    .dataframe tbody tr th:only-of-type {\n        vertical-align: middle;\n    }\n\n    .dataframe tbody tr th {\n        vertical-align: top;\n    }\n\n    .dataframe thead th {\n        text-align: right;\n    }\n</style>\n<table border=\"1\" class=\"dataframe\">\n  <thead>\n    <tr style=\"text-align: right;\">\n      <th></th>\n      <th>StoreName</th>\n      <th>FullName</th>\n      <th>EmailAddress</th>\n      <th>PhoneNumber</th>\n    </tr>\n  </thead>\n  <tbody>\n    <tr>\n      <th>0</th>\n      <td>A Bicycle Association</td>\n      <td>Michael G Blythe</td>\n      <td>michael9@adventure-works.com</td>\n      <td>257-555-0154</td>\n    </tr>\n    <tr>\n      <th>1</th>\n      <td>A Bike Store</td>\n      <td>Pamela O Ansman-Wolfe</td>\n      <td>pamela0@adventure-works.com</td>\n      <td>340-555-0193</td>\n    </tr>\n    <tr>\n      <th>2</th>\n      <td>A Cycle Shop</td>\n      <td>David R Campbell</td>\n      <td>david8@adventure-works.com</td>\n      <td>740-555-0182</td>\n    </tr>\n    <tr>\n      <th>3</th>\n      <td>A Great Bicycle Company</td>\n      <td>Jillian Carson</td>\n      <td>jillian0@adventure-works.com</td>\n      <td>517-555-0117</td>\n    </tr>\n    <tr>\n      <th>4</th>\n      <td>A Typical Bike Shop</td>\n      <td>Jillian Carson</td>\n      <td>jillian0@adventure-works.com</td>\n      <td>517-555-0117</td>\n    </tr>\n    <tr>\n      <th>...</th>\n      <td>...</td>\n      <td>...</td>\n      <td>...</td>\n      <td>...</td>\n    </tr>\n    <tr>\n      <th>696</th>\n      <td>World Bike Discount Store</td>\n      <td>Linda C Mitchell</td>\n      <td>linda3@adventure-works.com</td>\n      <td>883-555-0116</td>\n    </tr>\n    <tr>\n      <th>697</th>\n      <td>World of Bikes</td>\n      <td>Jillian Carson</td>\n      <td>jillian0@adventure-works.com</td>\n      <td>517-555-0117</td>\n    </tr>\n    <tr>\n      <th>698</th>\n      <td>Worthwhile Activity Store</td>\n      <td>Tsvi Michael Reiter</td>\n      <td>tsvi0@adventure-works.com</td>\n      <td>664-555-0112</td>\n    </tr>\n    <tr>\n      <th>699</th>\n      <td>Year-Round Sports</td>\n      <td>David R Campbell</td>\n      <td>david8@adventure-works.com</td>\n      <td>740-555-0182</td>\n    </tr>\n    <tr>\n      <th>700</th>\n      <td>Yellow Bicycle Company</td>\n      <td>Jillian Carson</td>\n      <td>jillian0@adventure-works.com</td>\n      <td>517-555-0117</td>\n    </tr>\n  </tbody>\n</table>\n<p>701 rows × 4 columns</p>\n</div>"
     },
     "metadata": {},
     "output_type": "display_data"
    }
   ],
   "source": [
    "sales_person_contacts_df = pd.read_sql(\"SELECT DISTINCT(st.Name) AS StoreName, \"\n",
    "                                    \"p.FirstName + ' ' + ISNULL(MiddleName + ' ', '') + p.LastName as FullName, \"\n",
    "                                    \"em.EmailAddress, ph.PhoneNumber \"\n",
    "                                    \"FROM Sales.Customer AS c \"\n",
    "                                    \"JOIN Sales.Store AS st \"\n",
    "                                    \"ON c.StoreID = st.BusinessEntityID \"\n",
    "                                    \"JOIN Sales.SalesPerson AS sp \"\n",
    "                                    \"ON st.SalesPersonID = sp.BusinessEntityID \"\n",
    "                                    \"JOIN HumanResources.Employee AS e \"\n",
    "                                    \"ON sp.BusinessEntityID = e.BusinessEntityID \"\n",
    "                                    \"JOIN Person.Person AS p \"\n",
    "                                    \"ON e.BusinessEntityID = p.BusinessEntityID \"\n",
    "                                    \"LEFT JOIN Person.EmailAddress AS em \"\n",
    "                                    \"ON p.BusinessEntityID = em.BusinessEntityID \"\n",
    "                                    \"LEFT JOIN Person.PersonPhone as ph \"\n",
    "                                    \"ON p.BusinessEntityID = ph.BusinessEntityID \"\n",
    "                                    \"ORDER BY st.Name;\", conn)\n",
    "\n",
    "display(sales_person_contacts_df)"
   ]
  },
  {
   "cell_type": "markdown",
   "metadata": {},
   "source": [
    "\n",
    "#### 3. Retrieve the availability of sales quota for sales people\n"
   ]
  },
  {
   "cell_type": "code",
   "execution_count": 10,
   "metadata": {},
   "outputs": [
    {
     "data": {
      "text/plain": "                      FullName                      JobTitle  SalesQuota  \\\n0                Amy E Alberts        European Sales Manager         NaN   \n1             David R Campbell          Sales Representative    250000.0   \n2             Garrett R Vargas          Sales Representative    250000.0   \n3                    Jae B Pak          Sales Representative    250000.0   \n4               Jillian Carson          Sales Representative    250000.0   \n5         José Edvaldo Saraiva          Sales Representative    250000.0   \n6             Linda C Mitchell          Sales Representative    250000.0   \n7              Lynn N Tsoflias          Sales Representative    250000.0   \n8             Michael G Blythe          Sales Representative    300000.0   \n9        Pamela O Ansman-Wolfe          Sales Representative    250000.0   \n10             Rachel B Valdez          Sales Representative    250000.0   \n11  Ranjit R Varkey Chudukatil          Sales Representative    250000.0   \n12                   Shu K Ito          Sales Representative    250000.0   \n13             Stephen Y Jiang  North American Sales Manager         NaN   \n14                Syed E Abbas         Pacific Sales Manager         NaN   \n15          Tete A Mensa-Annan          Sales Representative    300000.0   \n16         Tsvi Michael Reiter          Sales Representative    300000.0   \n\n     Bonus  CommissionPct   SalesYTD   QuotaAvailability  \n0      0.0          0.000   519905.9  No Specified Quota  \n1   3500.0          0.012  1573012.9     Quota Available  \n2    500.0          0.010  1453719.5     Quota Available  \n3   5150.0          0.020  4116871.2     Quota Available  \n4   2500.0          0.015  3189418.4     Quota Available  \n5   5000.0          0.015  2604540.7     Quota Available  \n6   2000.0          0.015  4251368.5     Quota Available  \n7   5650.0          0.018  1421810.9     Quota Available  \n8   4100.0          0.012  3763178.2     Quota Available  \n9   5000.0          0.010  1352577.1     Quota Available  \n10    75.0          0.018  1827066.7     Quota Available  \n11   985.0          0.016  3121616.3     Quota Available  \n12  3550.0          0.010  2458535.6     Quota Available  \n13     0.0          0.000   559697.6  No Specified Quota  \n14     0.0          0.000   172524.5  No Specified Quota  \n15  3900.0          0.019  1576562.2     Quota Available  \n16  6700.0          0.010  2315185.6     Quota Available  ",
      "text/html": "<div>\n<style scoped>\n    .dataframe tbody tr th:only-of-type {\n        vertical-align: middle;\n    }\n\n    .dataframe tbody tr th {\n        vertical-align: top;\n    }\n\n    .dataframe thead th {\n        text-align: right;\n    }\n</style>\n<table border=\"1\" class=\"dataframe\">\n  <thead>\n    <tr style=\"text-align: right;\">\n      <th></th>\n      <th>FullName</th>\n      <th>JobTitle</th>\n      <th>SalesQuota</th>\n      <th>Bonus</th>\n      <th>CommissionPct</th>\n      <th>SalesYTD</th>\n      <th>QuotaAvailability</th>\n    </tr>\n  </thead>\n  <tbody>\n    <tr>\n      <th>0</th>\n      <td>Amy E Alberts</td>\n      <td>European Sales Manager</td>\n      <td>NaN</td>\n      <td>0.0</td>\n      <td>0.000</td>\n      <td>519905.9</td>\n      <td>No Specified Quota</td>\n    </tr>\n    <tr>\n      <th>1</th>\n      <td>David R Campbell</td>\n      <td>Sales Representative</td>\n      <td>250000.0</td>\n      <td>3500.0</td>\n      <td>0.012</td>\n      <td>1573012.9</td>\n      <td>Quota Available</td>\n    </tr>\n    <tr>\n      <th>2</th>\n      <td>Garrett R Vargas</td>\n      <td>Sales Representative</td>\n      <td>250000.0</td>\n      <td>500.0</td>\n      <td>0.010</td>\n      <td>1453719.5</td>\n      <td>Quota Available</td>\n    </tr>\n    <tr>\n      <th>3</th>\n      <td>Jae B Pak</td>\n      <td>Sales Representative</td>\n      <td>250000.0</td>\n      <td>5150.0</td>\n      <td>0.020</td>\n      <td>4116871.2</td>\n      <td>Quota Available</td>\n    </tr>\n    <tr>\n      <th>4</th>\n      <td>Jillian Carson</td>\n      <td>Sales Representative</td>\n      <td>250000.0</td>\n      <td>2500.0</td>\n      <td>0.015</td>\n      <td>3189418.4</td>\n      <td>Quota Available</td>\n    </tr>\n    <tr>\n      <th>5</th>\n      <td>José Edvaldo Saraiva</td>\n      <td>Sales Representative</td>\n      <td>250000.0</td>\n      <td>5000.0</td>\n      <td>0.015</td>\n      <td>2604540.7</td>\n      <td>Quota Available</td>\n    </tr>\n    <tr>\n      <th>6</th>\n      <td>Linda C Mitchell</td>\n      <td>Sales Representative</td>\n      <td>250000.0</td>\n      <td>2000.0</td>\n      <td>0.015</td>\n      <td>4251368.5</td>\n      <td>Quota Available</td>\n    </tr>\n    <tr>\n      <th>7</th>\n      <td>Lynn N Tsoflias</td>\n      <td>Sales Representative</td>\n      <td>250000.0</td>\n      <td>5650.0</td>\n      <td>0.018</td>\n      <td>1421810.9</td>\n      <td>Quota Available</td>\n    </tr>\n    <tr>\n      <th>8</th>\n      <td>Michael G Blythe</td>\n      <td>Sales Representative</td>\n      <td>300000.0</td>\n      <td>4100.0</td>\n      <td>0.012</td>\n      <td>3763178.2</td>\n      <td>Quota Available</td>\n    </tr>\n    <tr>\n      <th>9</th>\n      <td>Pamela O Ansman-Wolfe</td>\n      <td>Sales Representative</td>\n      <td>250000.0</td>\n      <td>5000.0</td>\n      <td>0.010</td>\n      <td>1352577.1</td>\n      <td>Quota Available</td>\n    </tr>\n    <tr>\n      <th>10</th>\n      <td>Rachel B Valdez</td>\n      <td>Sales Representative</td>\n      <td>250000.0</td>\n      <td>75.0</td>\n      <td>0.018</td>\n      <td>1827066.7</td>\n      <td>Quota Available</td>\n    </tr>\n    <tr>\n      <th>11</th>\n      <td>Ranjit R Varkey Chudukatil</td>\n      <td>Sales Representative</td>\n      <td>250000.0</td>\n      <td>985.0</td>\n      <td>0.016</td>\n      <td>3121616.3</td>\n      <td>Quota Available</td>\n    </tr>\n    <tr>\n      <th>12</th>\n      <td>Shu K Ito</td>\n      <td>Sales Representative</td>\n      <td>250000.0</td>\n      <td>3550.0</td>\n      <td>0.010</td>\n      <td>2458535.6</td>\n      <td>Quota Available</td>\n    </tr>\n    <tr>\n      <th>13</th>\n      <td>Stephen Y Jiang</td>\n      <td>North American Sales Manager</td>\n      <td>NaN</td>\n      <td>0.0</td>\n      <td>0.000</td>\n      <td>559697.6</td>\n      <td>No Specified Quota</td>\n    </tr>\n    <tr>\n      <th>14</th>\n      <td>Syed E Abbas</td>\n      <td>Pacific Sales Manager</td>\n      <td>NaN</td>\n      <td>0.0</td>\n      <td>0.000</td>\n      <td>172524.5</td>\n      <td>No Specified Quota</td>\n    </tr>\n    <tr>\n      <th>15</th>\n      <td>Tete A Mensa-Annan</td>\n      <td>Sales Representative</td>\n      <td>300000.0</td>\n      <td>3900.0</td>\n      <td>0.019</td>\n      <td>1576562.2</td>\n      <td>Quota Available</td>\n    </tr>\n    <tr>\n      <th>16</th>\n      <td>Tsvi Michael Reiter</td>\n      <td>Sales Representative</td>\n      <td>300000.0</td>\n      <td>6700.0</td>\n      <td>0.010</td>\n      <td>2315185.6</td>\n      <td>Quota Available</td>\n    </tr>\n  </tbody>\n</table>\n</div>"
     },
     "metadata": {},
     "output_type": "display_data"
    }
   ],
   "source": [
    "sales_quota_df = pd.read_sql(\"SELECT p.FirstName + ' ' + ISNULL(MiddleName + ' ', '') + p.LastName as FullName, \"\n",
    "                             \"e.JobTitle, \"\n",
    "                             \"sp.SalesQuota, \"\n",
    "                             \"sp.Bonus, \"\n",
    "                             \"sp.CommissionPct, \"\n",
    "                             \"ROUND(sp.SalesYTD, 1) AS SalesYTD, \"\n",
    "                             \"CASE WHEN SalesQuota IS NULL THEN 'No Specified Quota' \"\n",
    "                             \"ELSE 'Quota Available' END AS QuotaAvailability \"\n",
    "                             \"FROM Sales.SalesPerson sp \"\n",
    "                             \"INNER JOIN HumanResources.Employee e \"\n",
    "                             \"ON sp.BusinessEntityID = e.BusinessEntityID \"\n",
    "                             \"INNER JOIN Person.Person p \"\n",
    "                             \"ON e.BusinessEntityID = p.BusinessEntityID \"\n",
    "                             \"ORDER BY FullName;\", conn)\n",
    "\n",
    "display(sales_quota_df)"
   ]
  },
  {
   "cell_type": "code",
   "execution_count": 10,
   "metadata": {},
   "outputs": [],
   "source": []
  }
 ],
 "metadata": {
  "kernelspec": {
   "display_name": "Python 3",
   "language": "python",
   "name": "python3"
  },
  "language_info": {
   "codemirror_mode": {
    "name": "ipython",
    "version": 3
   },
   "file_extension": ".py",
   "mimetype": "text/x-python",
   "name": "python",
   "nbconvert_exporter": "python",
   "pygments_lexer": "ipython3",
   "version": "3.9.0"
  }
 },
 "nbformat": 4,
 "nbformat_minor": 1
}