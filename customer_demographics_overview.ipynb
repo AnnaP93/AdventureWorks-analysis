{
 "cells": [
  {
   "cell_type": "markdown",
   "metadata": {
    "pycharm": {
     "name": "#%% md\n"
    }
   },
   "source": [
    "### This report is aimed to provide insights on AdventureWorks customers."
   ]
  },
  {
   "cell_type": "code",
   "execution_count": 1,
   "metadata": {
    "pycharm": {
     "name": "#%%\n"
    }
   },
   "outputs": [],
   "source": [
    "import numpy as np\n",
    "import pyodbc\n",
    "import os\n",
    "from IPython.core.display import display\n",
    "from dotenv import load_dotenv\n",
    "import pandas as pd\n",
    "import matplotlib.pyplot as plt\n",
    "from pandas.core import series"
   ]
  },
  {
   "cell_type": "markdown",
   "metadata": {},
   "source": [
    "Connecting to SQL Server"
   ]
  },
  {
   "cell_type": "code",
   "execution_count": 2,
   "metadata": {
    "pycharm": {
     "name": "#%%\n"
    }
   },
   "outputs": [],
   "source": [
    "load_dotenv('credentials.env')\n",
    "conn = pyodbc.connect(\n",
    "    'DRIVER={ODBC Driver 17 for SQL Server};'\n",
    "    'SERVER='+os.environ.get('server')+';'\n",
    "    'DATABASE='+os.environ.get('database')+';'\n",
    "    'UID='+ os.environ.get('uid') +';'\n",
    "    'PWD='+ os.environ.get('pwd')+';')"
   ]
  },
  {
   "cell_type": "markdown",
   "metadata": {},
   "source": [
    "#### 1. Overview of customers' gender."
   ]
  },
  {
   "cell_type": "code",
   "execution_count": 3,
   "metadata": {
    "pycharm": {
     "name": "#%%\n"
    }
   },
   "outputs": [
    {
     "data": {
      "text/html": [
       "<div>\n",
       "<style scoped>\n",
       "    .dataframe tbody tr th:only-of-type {\n",
       "        vertical-align: middle;\n",
       "    }\n",
       "\n",
       "    .dataframe tbody tr th {\n",
       "        vertical-align: top;\n",
       "    }\n",
       "\n",
       "    .dataframe thead th {\n",
       "        text-align: right;\n",
       "    }\n",
       "</style>\n",
       "<table border=\"1\" class=\"dataframe\">\n",
       "  <thead>\n",
       "    <tr style=\"text-align: right;\">\n",
       "      <th></th>\n",
       "      <th>Customer Gender</th>\n",
       "      <th>Number Of People</th>\n",
       "    </tr>\n",
       "  </thead>\n",
       "  <tbody>\n",
       "    <tr>\n",
       "      <th>0</th>\n",
       "      <td>Male</td>\n",
       "      <td>9351</td>\n",
       "    </tr>\n",
       "    <tr>\n",
       "      <th>1</th>\n",
       "      <td>Female</td>\n",
       "      <td>9133</td>\n",
       "    </tr>\n",
       "  </tbody>\n",
       "</table>\n",
       "</div>"
      ],
      "text/plain": [
       "  Customer Gender  Number Of People\n",
       "0            Male              9351\n",
       "1          Female              9133"
      ]
     },
     "metadata": {},
     "output_type": "display_data"
    },
    {
     "data": {
      "image/png": "[encoded data removed]",
      "text/plain": [
       "<Figure size 432x288 with 1 Axes>"
      ]
     },
     "metadata": {
      "needs_background": "light"
     },
     "output_type": "display_data"
    }
   ],
   "source": [
    "gender_overview = pd.read_sql(\"SELECT sub.[Customer Gender], COUNT(*) AS 'Number Of People' \"\n",
    "                              \"FROM (SELECT \"\n",
    "                              \"CASE \"\n",
    "                              \"WHEN Gender = 'M' THEN 'Male' \"\n",
    "                              \"WHEN Gender = 'F' THEN 'Female' \"\n",
    "                              \"ELSE 'Not Specified' END AS 'Customer Gender' \"\n",
    "                              \"FROM [AdventureWorks2019].[Sales].[vPersonDemographics] vp \"\n",
    "                              \"INNER JOIN Person.Person p \"\n",
    "                              \"ON p.BusinessEntityID = vp.BusinessEntityID \"\n",
    "                              \"WHERE PersonType = 'IN') sub \"\n",
    "                              \"GROUP BY SUB.[Customer Gender] \"\n",
    "                              \"ORDER BY 'Number Of People' DESC;\", conn)\n",
    "\n",
    "display(gender_overview)\n",
    "gender_overview.set_index('Customer Gender', inplace=True)\n",
    "plt.bar(gender_overview.index, gender_overview['Number Of People'], color=['blue', 'red'])\n",
    "plt.show()"
   ]
  },
  {
   "cell_type": "markdown",
   "metadata": {},
   "source": [
    "#### 2. Overview the marital status of customers."
   ]
  },
  {
   "cell_type": "code",
   "execution_count": 4,
   "metadata": {
    "pycharm": {
     "name": "#%%\n"
    }
   },
   "outputs": [
    {
     "data": {
      "text/html": [
       "<div>\n",
       "<style scoped>\n",
       "    .dataframe tbody tr th:only-of-type {\n",
       "        vertical-align: middle;\n",
       "    }\n",
       "\n",
       "    .dataframe tbody tr th {\n",
       "        vertical-align: top;\n",
       "    }\n",
       "\n",
       "    .dataframe thead th {\n",
       "        text-align: right;\n",
       "    }\n",
       "</style>\n",
       "<table border=\"1\" class=\"dataframe\">\n",
       "  <thead>\n",
       "    <tr style=\"text-align: right;\">\n",
       "      <th></th>\n",
       "      <th>Marital Status</th>\n",
       "      <th>Number Of People</th>\n",
       "    </tr>\n",
       "  </thead>\n",
       "  <tbody>\n",
       "    <tr>\n",
       "      <th>0</th>\n",
       "      <td>Married</td>\n",
       "      <td>10011</td>\n",
       "    </tr>\n",
       "    <tr>\n",
       "      <th>1</th>\n",
       "      <td>Single</td>\n",
       "      <td>8473</td>\n",
       "    </tr>\n",
       "  </tbody>\n",
       "</table>\n",
       "</div>"
      ],
      "text/plain": [
       "  Marital Status  Number Of People\n",
       "0        Married             10011\n",
       "1         Single              8473"
      ]
     },
     "metadata": {},
     "output_type": "display_data"
    },
    {
     "data": {
      "image/png": "[encoded data removed]",
      "text/plain": [
       "<Figure size 432x288 with 1 Axes>"
      ]
     },
     "metadata": {
      "needs_background": "light"
     },
     "output_type": "display_data"
    }
   ],
   "source": [
    "marital_status = pd.read_sql(\"SELECT sub.[Marital Status], COUNT(*) AS 'Number Of People' \"\n",
    "                             \"FROM \"\n",
    "                             \"(SELECT \"\n",
    "                             \"CASE \"\n",
    "                             \"WHEN MaritalStatus = 'M' THEN 'Married' \"\n",
    "                             \"WHEN MaritalStatus = 'S' THEN 'Single' \"\n",
    "                             \"ELSE 'Not Specified' END AS 'Marital Status' \"\n",
    "                             \"FROM [AdventureWorks2019].[Sales].[vPersonDemographics] vp \"\n",
    "                             \"INNER JOIN Person.Person p \"\n",
    "                             \"ON p.BusinessEntityID = vp.BusinessEntityID \"\n",
    "                             \"WHERE PersonType = 'IN') sub \"\n",
    "                             \"GROUP BY sub.[Marital Status] \"\n",
    "                             \"ORDER BY 'Number Of People' DESC;\", conn)\n",
    "\n",
    "display(marital_status)\n",
    "marital_status.set_index('Marital Status', inplace=True)\n",
    "plt.bar(marital_status.index, marital_status['Number Of People'], color=['blue', 'red'])\n",
    "plt.show()"
   ]
  },
  {
   "cell_type": "markdown",
   "metadata": {},
   "source": [
    "#### 3. Examine the number of kids in a household.\n"
   ]
  },
  {
   "cell_type": "code",
   "execution_count": 5,
   "metadata": {
    "pycharm": {
     "name": "#%%\n"
    }
   },
   "outputs": [
    {
     "data": {
      "text/html": [
       "<div>\n",
       "<style scoped>\n",
       "    .dataframe tbody tr th:only-of-type {\n",
       "        vertical-align: middle;\n",
       "    }\n",
       "\n",
       "    .dataframe tbody tr th {\n",
       "        vertical-align: top;\n",
       "    }\n",
       "\n",
       "    .dataframe thead th {\n",
       "        text-align: right;\n",
       "    }\n",
       "</style>\n",
       "<table border=\"1\" class=\"dataframe\">\n",
       "  <thead>\n",
       "    <tr style=\"text-align: right;\">\n",
       "      <th></th>\n",
       "      <th>Total Children</th>\n",
       "      <th>Number Of Kids</th>\n",
       "    </tr>\n",
       "  </thead>\n",
       "  <tbody>\n",
       "    <tr>\n",
       "      <th>0</th>\n",
       "      <td>No kids</td>\n",
       "      <td>5165</td>\n",
       "    </tr>\n",
       "    <tr>\n",
       "      <th>1</th>\n",
       "      <td>2 kids</td>\n",
       "      <td>3779</td>\n",
       "    </tr>\n",
       "    <tr>\n",
       "      <th>2</th>\n",
       "      <td>1 kid</td>\n",
       "      <td>3619</td>\n",
       "    </tr>\n",
       "    <tr>\n",
       "      <th>3</th>\n",
       "      <td>4 kids</td>\n",
       "      <td>2303</td>\n",
       "    </tr>\n",
       "    <tr>\n",
       "      <th>4</th>\n",
       "      <td>3 kids</td>\n",
       "      <td>2194</td>\n",
       "    </tr>\n",
       "    <tr>\n",
       "      <th>5</th>\n",
       "      <td>5 &amp; more kids</td>\n",
       "      <td>1424</td>\n",
       "    </tr>\n",
       "  </tbody>\n",
       "</table>\n",
       "</div>"
      ],
      "text/plain": [
       "  Total Children  Number Of Kids\n",
       "0        No kids            5165\n",
       "1         2 kids            3779\n",
       "2          1 kid            3619\n",
       "3         4 kids            2303\n",
       "4         3 kids            2194\n",
       "5  5 & more kids            1424"
      ]
     },
     "metadata": {},
     "output_type": "display_data"
    },
    {
     "data": {
      "image/png": "[encoded data removed]",
      "text/plain": [
       "<Figure size 432x288 with 1 Axes>"
      ]
     },
     "metadata": {
      "needs_background": "light"
     },
     "output_type": "display_data"
    }
   ],
   "source": [
    "kids_in_household = pd.read_sql(\"WITH customers_with_children AS \"\n",
    "                                \"(SELECT TotalChildren, \"\n",
    "                                \"CASE \"\n",
    "                                \"WHEN TotalChildren = 0 THEN 'No kids' \"\n",
    "                                \"WHEN TotalChildren = 1 THEN '1 kid' \"\n",
    "                                \"WHEN TotalChildren = 2 THEN '2 kids' \"\n",
    "                                \"WHEN TotalChildren = 3 THEN '3 kids' \"\n",
    "                                \"WHEN TotalChildren = 4 THEN '4 kids' \"\n",
    "                                \"WHEN TotalChildren <= 5 THEN '5 & more kids' \"\n",
    "                                \"ELSE 'Not Specified' END AS 'Total Children' \"\n",
    "                                \"FROM [AdventureWorks2019].[Sales].[vPersonDemographics] vp \"\n",
    "                                \"INNER JOIN Person.Person p \"\n",
    "                                \"ON p.BusinessEntityID = vp.BusinessEntityID \"\n",
    "                                \"WHERE PersonType = 'IN') \"\n",
    "                                \"SELECT [Total Children], COUNT(TotalChildren) AS 'Number Of Kids' \"\n",
    "                                \"FROM customers_with_children \"\n",
    "                                \"GROUP BY [Total Children] \"\n",
    "                                \"ORDER BY 'Number Of Kids' DESC;\", conn)\n",
    "\n",
    "display(kids_in_household)\n",
    "kids_in_household.set_index('Total Children', inplace=True)\n",
    "plt.bar(kids_in_household.index, kids_in_household['Number Of Kids'], width=0.6, color=['blue', 'red', 'green', 'orange', 'purple'])\n",
    "plt.show()"
   ]
  },
  {
   "cell_type": "markdown",
   "metadata": {},
   "source": [
    "#### 4. Evaluate the yearly income among customers."
   ]
  },
  {
   "cell_type": "code",
   "execution_count": 6,
   "metadata": {
    "pycharm": {
     "name": "#%%\n"
    }
   },
   "outputs": [
    {
     "data": {
      "text/html": [
       "<div>\n",
       "<style scoped>\n",
       "    .dataframe tbody tr th:only-of-type {\n",
       "        vertical-align: middle;\n",
       "    }\n",
       "\n",
       "    .dataframe tbody tr th {\n",
       "        vertical-align: top;\n",
       "    }\n",
       "\n",
       "    .dataframe thead th {\n",
       "        text-align: right;\n",
       "    }\n",
       "</style>\n",
       "<table border=\"1\" class=\"dataframe\">\n",
       "  <thead>\n",
       "    <tr style=\"text-align: right;\">\n",
       "      <th></th>\n",
       "      <th>YearlyIncome</th>\n",
       "      <th>TotalCount</th>\n",
       "    </tr>\n",
       "  </thead>\n",
       "  <tbody>\n",
       "    <tr>\n",
       "      <th>0</th>\n",
       "      <td>25001-50000</td>\n",
       "      <td>5704</td>\n",
       "    </tr>\n",
       "    <tr>\n",
       "      <th>1</th>\n",
       "      <td>50001-75000</td>\n",
       "      <td>5476</td>\n",
       "    </tr>\n",
       "    <tr>\n",
       "      <th>2</th>\n",
       "      <td>0-25000</td>\n",
       "      <td>2922</td>\n",
       "    </tr>\n",
       "    <tr>\n",
       "      <th>3</th>\n",
       "      <td>75001-100000</td>\n",
       "      <td>2755</td>\n",
       "    </tr>\n",
       "    <tr>\n",
       "      <th>4</th>\n",
       "      <td>greater than 100000</td>\n",
       "      <td>1627</td>\n",
       "    </tr>\n",
       "  </tbody>\n",
       "</table>\n",
       "</div>"
      ],
      "text/plain": [
       "          YearlyIncome  TotalCount\n",
       "0          25001-50000        5704\n",
       "1          50001-75000        5476\n",
       "2              0-25000        2922\n",
       "3         75001-100000        2755\n",
       "4  greater than 100000        1627"
      ]
     },
     "metadata": {},
     "output_type": "display_data"
    },
    {
     "data": {
      "image/png": "[encoded data removed]",
      "text/plain": [
       "<Figure size 432x288 with 1 Axes>"
      ]
     },
     "metadata": {},
     "output_type": "display_data"
    }
   ],
   "source": [
    "yearly_income = pd.read_sql(\"SELECT DISTINCT(YearlyIncome), COUNT(*) AS TotalCount \"\n",
    "                            \"FROM [AdventureWorks2019].[Sales].[vPersonDemographics] vp \"\n",
    "                            \"INNER JOIN Person.Person p \"\n",
    "                            \"ON p.BusinessEntityID = vp.BusinessEntityID \"\n",
    "                            \"WHERE PersonType = 'IN' \"\n",
    "                            \"GROUP BY YearlyIncome \"\n",
    "                            \"ORDER BY TotalCount DESC;\", conn)\n",
    "\n",
    "display(yearly_income)\n",
    "yearly_income.set_index('TotalCount', inplace=True)\n",
    "plt.pie(yearly_income.index, labels=yearly_income['YearlyIncome'])\n",
    "plt.show()"
   ]
  },
  {
   "cell_type": "markdown",
   "metadata": {},
   "source": [
    "#### 5. Examine how many of AdventureWorks customers own a home."
   ]
  },
  {
   "cell_type": "code",
   "execution_count": 7,
   "metadata": {
    "pycharm": {
     "name": "#%%\n"
    }
   },
   "outputs": [
    {
     "data": {
      "text/html": [
       "<div>\n",
       "<style scoped>\n",
       "    .dataframe tbody tr th:only-of-type {\n",
       "        vertical-align: middle;\n",
       "    }\n",
       "\n",
       "    .dataframe tbody tr th {\n",
       "        vertical-align: top;\n",
       "    }\n",
       "\n",
       "    .dataframe thead th {\n",
       "        text-align: right;\n",
       "    }\n",
       "</style>\n",
       "<table border=\"1\" class=\"dataframe\">\n",
       "  <thead>\n",
       "    <tr style=\"text-align: right;\">\n",
       "      <th></th>\n",
       "      <th>Home Ownership</th>\n",
       "      <th>Number Of People</th>\n",
       "    </tr>\n",
       "  </thead>\n",
       "  <tbody>\n",
       "    <tr>\n",
       "      <th>0</th>\n",
       "      <td>Home Owner</td>\n",
       "      <td>12502</td>\n",
       "    </tr>\n",
       "    <tr>\n",
       "      <th>1</th>\n",
       "      <td>Not A Home Owner</td>\n",
       "      <td>5982</td>\n",
       "    </tr>\n",
       "  </tbody>\n",
       "</table>\n",
       "</div>"
      ],
      "text/plain": [
       "     Home Ownership  Number Of People\n",
       "0        Home Owner             12502\n",
       "1  Not A Home Owner              5982"
      ]
     },
     "metadata": {},
     "output_type": "display_data"
    },
    {
     "data": {
      "image/png": "[encoded data removed]",
      "text/plain": [
       "<Figure size 432x288 with 1 Axes>"
      ]
     },
     "metadata": {},
     "output_type": "display_data"
    }
   ],
   "source": [
    "home_ownership = pd.read_sql(\"SELECT sub.[Home Ownership], COUNT(*) 'Number Of People' \"\n",
    "                             \"FROM \"\n",
    "                             \"(SELECT \"\n",
    "                             \"CASE \"\n",
    "                             \"WHEN HomeOwnerFlag = 1 THEN 'Home Owner' \"\n",
    "                             \"WHEN HomeOwnerFlag = 0 THEN 'Not A Home Owner' \"\n",
    "                             \"ELSE 'Not Specified' END AS 'Home Ownership' \"\n",
    "                             \"FROM [AdventureWorks2019].[Sales].[vPersonDemographics] vp \"\n",
    "                             \"INNER JOIN Person.Person p  \"\n",
    "                             \"ON p.BusinessEntityID = vp.BusinessEntityID \"\n",
    "                             \"WHERE PersonType = 'IN') sub \"\n",
    "                             \"GROUP BY [Home Ownership];\", conn)\n",
    "\n",
    "display(home_ownership)\n",
    "home_ownership.set_index('Number Of People', inplace=True)\n",
    "plt.pie(home_ownership.index, labels=home_ownership['Home Ownership'])\n",
    "plt.show()"
   ]
  }
 ],
 "metadata": {
  "kernelspec": {
   "display_name": "Python 3",
   "language": "python",
   "name": "python3"
  },
  "language_info": {
   "codemirror_mode": {
    "name": "ipython",
    "version": 3
   },
   "file_extension": ".py",
   "mimetype": "text/x-python",
   "name": "python",
   "nbconvert_exporter": "python",
   "pygments_lexer": "ipython3",
   "version": "3.9.0"
  }
 },
 "nbformat": 4,
 "nbformat_minor": 1
}