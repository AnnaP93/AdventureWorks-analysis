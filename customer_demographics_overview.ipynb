{
 "cells": [
  {
   "cell_type": "markdown",
   "metadata": {
    "pycharm": {
     "name": "#%% md\n"
    }
   },
   "source": [
    "#### This report is aimed to provide insights on AdventureWorks customers."
   ]
  },
  {
   "cell_type": "code",
   "execution_count": 7,
   "metadata": {
    "pycharm": {
     "name": "#%%\n"
    }
   },
   "outputs": [],
   "source": [
    "import numpy as np\n",
    "import pyodbc\n",
    "import os\n",
    "from IPython.core.display import display\n",
    "from dotenv import load_dotenv\n",
    "import pandas as pd\n",
    "import matplotlib.pyplot as plt\n",
    "from pandas.core import series"
   ]
  },
  {
   "cell_type": "markdown",
   "metadata": {},
   "source": [
    "Connecting to SQL Server"
   ]
  },
  {
   "cell_type": "code",
   "execution_count": 8,
   "metadata": {
    "pycharm": {
     "name": "#%%\n"
    }
   },
   "outputs": [],
   "source": [
    "load_dotenv('credentials.env')\n",
    "conn = pyodbc.connect(\n",
    "    'DRIVER={ODBC Driver 17 for SQL Server};'\n",
    "    'SERVER='+os.environ.get('server')+';'\n",
    "    'DATABASE='+os.environ.get('database')+';'\n",
    "    'UID='+ os.environ.get('uid') +';'\n",
    "    'PWD='+ os.environ.get('pwd')+';')"
   ]
  },
  {
   "cell_type": "markdown",
   "metadata": {},
   "source": [
    "1. Overview of customers' gender."
   ]
  },
  {
   "cell_type": "code",
   "execution_count": 9,
   "metadata": {
    "pycharm": {
     "name": "#%%\n"
    }
   },
   "outputs": [
    {
     "data": {
      "text/plain": "  Customer Gender  Number Of People\n0            Male              9351\n1          Female              9133",
      "text/html": "<div>\n<style scoped>\n    .dataframe tbody tr th:only-of-type {\n        vertical-align: middle;\n    }\n\n    .dataframe tbody tr th {\n        vertical-align: top;\n    }\n\n    .dataframe thead th {\n        text-align: right;\n    }\n</style>\n<table border=\"1\" class=\"dataframe\">\n  <thead>\n    <tr style=\"text-align: right;\">\n      <th></th>\n      <th>Customer Gender</th>\n      <th>Number Of People</th>\n    </tr>\n  </thead>\n  <tbody>\n    <tr>\n      <th>0</th>\n      <td>Male</td>\n      <td>9351</td>\n    </tr>\n    <tr>\n      <th>1</th>\n      <td>Female</td>\n      <td>9133</td>\n    </tr>\n  </tbody>\n</table>\n</div>"
     },
     "metadata": {},
     "output_type": "display_data"
    },
    {
     "data": {
      "text/plain": "<Figure size 432x288 with 1 Axes>",
      "image/png": "[encoded data removed]"
     },
     "metadata": {
      "needs_background": "light"
     },
     "output_type": "display_data"
    }
   ],
   "source": [
    "gender_overview = pd.read_sql(\"SELECT SUB.[Customer Gender], \"\n",
    "                              \"COUNT(*) AS 'Number Of People' \"\n",
    "                              \"FROM \"\n",
    "                              \"(SELECT CASE \"\n",
    "                              \"WHEN Gender = 'M' THEN 'Male' \"\n",
    "                              \"WHEN Gender = 'F' THEN 'Female' \"\n",
    "                              \"ELSE 'Not Specified' END AS 'Customer Gender' \"\n",
    "                              \"FROM [AdventureWorks2019].[Sales].[vPersonDemographics]) sub \"\n",
    "                              \"GROUP BY SUB.[Customer Gender] \"\n",
    "                              \"ORDER BY 'Number Of People' DESC;\", conn)\n",
    "\n",
    "display(gender_overview)\n",
    "df = gender_overview.set_index('Customer Gender')\n",
    "ax = df.plot.bar(rot=0)\n",
    "plt.show()\n"
   ]
  },
  {
   "cell_type": "markdown",
   "metadata": {},
   "source": [
    "2. Overview the marital status of customers."
   ]
  },
  {
   "cell_type": "code",
   "execution_count": 10,
   "metadata": {
    "pycharm": {
     "name": "#%%\n"
    }
   },
   "outputs": [
    {
     "data": {
      "text/plain": "  Marital Status  Number Of People\n0        Married             10011\n1         Single              8473",
      "text/html": "<div>\n<style scoped>\n    .dataframe tbody tr th:only-of-type {\n        vertical-align: middle;\n    }\n\n    .dataframe tbody tr th {\n        vertical-align: top;\n    }\n\n    .dataframe thead th {\n        text-align: right;\n    }\n</style>\n<table border=\"1\" class=\"dataframe\">\n  <thead>\n    <tr style=\"text-align: right;\">\n      <th></th>\n      <th>Marital Status</th>\n      <th>Number Of People</th>\n    </tr>\n  </thead>\n  <tbody>\n    <tr>\n      <th>0</th>\n      <td>Married</td>\n      <td>10011</td>\n    </tr>\n    <tr>\n      <th>1</th>\n      <td>Single</td>\n      <td>8473</td>\n    </tr>\n  </tbody>\n</table>\n</div>"
     },
     "metadata": {},
     "output_type": "display_data"
    },
    {
     "data": {
      "text/plain": "<Figure size 432x288 with 1 Axes>",
      "image/png": "[encoded data removed]"
     },
     "metadata": {
      "needs_background": "light"
     },
     "output_type": "display_data"
    }
   ],
   "source": [
    "marital_status = pd.read_sql(\"SELECT \"\n",
    "                             \"sub.[Marital Status], COUNT(*) AS 'Number Of People' \"\n",
    "                             \"FROM (SELECT \"\n",
    "                             \"CASE \"\n",
    "                             \"WHEN MaritalStatus = 'M' THEN 'Married' \"\n",
    "                             \"WHEN MaritalStatus = 'S' THEN 'Single' \"\n",
    "                             \"ELSE 'Not Specified' END AS 'Marital Status' \"\n",
    "                             \"FROM [AdventureWorks2019].[Sales].[vPersonDemographics]) sub GROUP BY sub.[Marital Status] \"\n",
    "                             \"ORDER BY 'Number Of People' DESC;\", conn)\n",
    "\n",
    "display(marital_status)\n",
    "df = marital_status.set_index('Marital Status')\n",
    "df.plot(kind='bar', rot=0)\n",
    "plt.show()"
   ]
  },
  {
   "cell_type": "markdown",
   "metadata": {},
   "source": [
    "3. Examine the number of kids in a household.\n"
   ]
  },
  {
   "cell_type": "code",
   "execution_count": 13,
   "metadata": {
    "pycharm": {
     "name": "#%%\n"
    }
   },
   "outputs": [
    {
     "data": {
      "text/plain": "    Total Children  Number Of Kids\n0          No kids            5165\n1           2 kids            3779\n2            1 kid            3619\n3           4 kids            2303\n4           3 kids            2194\n5  5 and more kids            1424",
      "text/html": "<div>\n<style scoped>\n    .dataframe tbody tr th:only-of-type {\n        vertical-align: middle;\n    }\n\n    .dataframe tbody tr th {\n        vertical-align: top;\n    }\n\n    .dataframe thead th {\n        text-align: right;\n    }\n</style>\n<table border=\"1\" class=\"dataframe\">\n  <thead>\n    <tr style=\"text-align: right;\">\n      <th></th>\n      <th>Total Children</th>\n      <th>Number Of Kids</th>\n    </tr>\n  </thead>\n  <tbody>\n    <tr>\n      <th>0</th>\n      <td>No kids</td>\n      <td>5165</td>\n    </tr>\n    <tr>\n      <th>1</th>\n      <td>2 kids</td>\n      <td>3779</td>\n    </tr>\n    <tr>\n      <th>2</th>\n      <td>1 kid</td>\n      <td>3619</td>\n    </tr>\n    <tr>\n      <th>3</th>\n      <td>4 kids</td>\n      <td>2303</td>\n    </tr>\n    <tr>\n      <th>4</th>\n      <td>3 kids</td>\n      <td>2194</td>\n    </tr>\n    <tr>\n      <th>5</th>\n      <td>5 and more kids</td>\n      <td>1424</td>\n    </tr>\n  </tbody>\n</table>\n</div>"
     },
     "metadata": {},
     "output_type": "display_data"
    },
    {
     "data": {
      "text/plain": "<Figure size 432x288 with 1 Axes>",
      "image/png": "[encoded data removed]"
     },
     "metadata": {
      "needs_background": "light"
     },
     "output_type": "display_data"
    }
   ],
   "source": [
    "kids_in_household = pd.read_sql(\"SELECT \"\n",
    "                                \"SUM(CASE WHEN TotalChildren = 0 THEN 1 ELSE NULL END) AS 'No kids', \"\n",
    "                                \"SUM(CASE WHEN TotalChildren = 1 THEN 1 ELSE NULL END) AS '1 kid', \"\n",
    "                                \"SUM(CASE WHEN TotalChildren = 2 THEN 1 ELSE NULL END) AS '2 kids', \"\n",
    "                                \"SUM(CASE WHEN TotalChildren = 3 THEN 1 ELSE NULL END) AS '3 kids', \"\n",
    "                                \"SUM(CASE WHEN TotalChildren = 4 THEN 1 ELSE NULL END) AS '4 kids', \"\n",
    "                                \"SUM(CASE WHEN TotalChildren >= 5 THEN 1 ELSE NULL END) AS '5 and more kids', \"\n",
    "                                \"SUM(CASE WHEN TotalChildren IS NULL THEN 1 ELSE NULL END) AS 'Not Specified' \"\n",
    "                                \"FROM [AdventureWorks2019].[Sales].[vPersonDemographics];\", conn)\n",
    "\n",
    "display(kids_in_household)\n",
    "# index = ['No kids', '1 kid', '2 kids', '3 kids', '4 kids', '5 and more kids']\n",
    "# bar_chart = kids_in_household.plot.bar(rot=0)\n",
    "df = kids_in_household\n",
    "df.plot(kind='barh', rot=0)\n",
    "plt.show()"
   ]
  },
  {
   "cell_type": "markdown",
   "metadata": {},
   "source": [
    "4. Evaluate the yearly income among customers."
   ]
  },
  {
   "cell_type": "code",
   "execution_count": 22,
   "metadata": {
    "pycharm": {
     "name": "#%%\n"
    }
   },
   "outputs": [
    {
     "data": {
      "text/plain": "          YearlyIncome  TotalCount\n0          25001-50000        5704\n1          50001-75000        5476\n2              0-25000        2922\n3         75001-100000        2755\n4  greater than 100000        1627",
      "text/html": "<div>\n<style scoped>\n    .dataframe tbody tr th:only-of-type {\n        vertical-align: middle;\n    }\n\n    .dataframe tbody tr th {\n        vertical-align: top;\n    }\n\n    .dataframe thead th {\n        text-align: right;\n    }\n</style>\n<table border=\"1\" class=\"dataframe\">\n  <thead>\n    <tr style=\"text-align: right;\">\n      <th></th>\n      <th>YearlyIncome</th>\n      <th>TotalCount</th>\n    </tr>\n  </thead>\n  <tbody>\n    <tr>\n      <th>0</th>\n      <td>25001-50000</td>\n      <td>5704</td>\n    </tr>\n    <tr>\n      <th>1</th>\n      <td>50001-75000</td>\n      <td>5476</td>\n    </tr>\n    <tr>\n      <th>2</th>\n      <td>0-25000</td>\n      <td>2922</td>\n    </tr>\n    <tr>\n      <th>3</th>\n      <td>75001-100000</td>\n      <td>2755</td>\n    </tr>\n    <tr>\n      <th>4</th>\n      <td>greater than 100000</td>\n      <td>1627</td>\n    </tr>\n  </tbody>\n</table>\n</div>"
     },
     "metadata": {},
     "output_type": "display_data"
    },
    {
     "data": {
      "text/plain": "<Figure size 432x288 with 1 Axes>",
      "image/png": "[encoded data removed]"
     },
     "metadata": {},
     "output_type": "display_data"
    }
   ],
   "source": [
    "yearly_income = pd.read_sql(\"SELECT DISTINCT(YearlyIncome) AS 'Yearly Income', \"\n",
    "                            \"COUNT(*) AS 'Total Count' \"\n",
    "                            \"FROM [AdventureWorks2019].[Sales].[vPersonDemographics] \"\n",
    "                            \"GROUP BY YearlyIncome \"\n",
    "                            \"ORDER BY 2 DESC\", conn)\n",
    "\n",
    "display(yearly_income)\n",
    "pie_chart = yearly_income.set_index('Yearly Income').plot(kind='pie', y='Total Count').legend(loc='center right', bbox_to_anchor=(2.0, 0.5))"
   ]
  },
  {
   "cell_type": "markdown",
   "metadata": {},
   "source": [
    "5. Examine how many of AdventureWorks customers own a home."
   ]
  },
  {
   "cell_type": "code",
   "execution_count": 23,
   "metadata": {
    "pycharm": {
     "name": "#%%\n"
    }
   },
   "outputs": [
    {
     "data": {
      "text/plain": "     Home Ownership  Number Of People\n0        Home Owner             12502\n1  Not A Home Owner              5982",
      "text/html": "<div>\n<style scoped>\n    .dataframe tbody tr th:only-of-type {\n        vertical-align: middle;\n    }\n\n    .dataframe tbody tr th {\n        vertical-align: top;\n    }\n\n    .dataframe thead th {\n        text-align: right;\n    }\n</style>\n<table border=\"1\" class=\"dataframe\">\n  <thead>\n    <tr style=\"text-align: right;\">\n      <th></th>\n      <th>Home Ownership</th>\n      <th>Number Of People</th>\n    </tr>\n  </thead>\n  <tbody>\n    <tr>\n      <th>0</th>\n      <td>Home Owner</td>\n      <td>12502</td>\n    </tr>\n    <tr>\n      <th>1</th>\n      <td>Not A Home Owner</td>\n      <td>5982</td>\n    </tr>\n  </tbody>\n</table>\n</div>"
     },
     "metadata": {},
     "output_type": "display_data"
    },
    {
     "data": {
      "text/plain": "<Figure size 432x288 with 1 Axes>",
      "image/png": "[encoded data removed]"
     },
     "metadata": {},
     "output_type": "display_data"
    }
   ],
   "source": [
    "home_ownership = pd.read_sql(\"SELECT \"\n",
    "                            \"SUM(CASE WHEN HomeOwnerFlag = 1 THEN 1 ELSE NULL END) AS 'Home Owner', \"\n",
    "                            \"SUM(CASE WHEN HomeOwnerFlag = 0 THEN 1 ELSE NULL END) AS 'Not A Home Owner', \"\n",
    "                            \"SUM(CASE WHEN HomeOwnerFlag IS NULL THEN 1 ELSE NULL END) AS 'Unknown' \"\n",
    "                            \"FROM [AdventureWorks2019].[Sales].[vPersonDemographics];\", conn)\n",
    "\n",
    "display(home_ownership)\n",
    "barh_chart = home_ownership.plot.barh()\n"
   ]
  }
 ],
 "metadata": {
  "kernelspec": {
   "display_name": "Python 3",
   "language": "python",
   "name": "python3"
  },
  "language_info": {
   "codemirror_mode": {
    "name": "ipython",
    "version": 3
   },
   "file_extension": ".py",
   "mimetype": "text/x-python",
   "name": "python",
   "nbconvert_exporter": "python",
   "pygments_lexer": "ipython3",
   "version": "3.9.0"
  }
 },
 "nbformat": 4,
 "nbformat_minor": 1
}