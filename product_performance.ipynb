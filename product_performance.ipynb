{
 "cells": [
  {
   "cell_type": "code",
   "execution_count": 1,
   "metadata": {
    "collapsed": true
   },
   "outputs": [],
   "source": [
    "import pyodbc\n",
    "import os\n",
    "from IPython.core.display import display\n",
    "from dotenv import load_dotenv\n",
    "import pandas as pd\n",
    "\n"
   ]
  },
  {
   "cell_type": "markdown",
   "metadata": {},
   "source": [
    "Connecting to SQL Server"
   ]
  },
  {
   "cell_type": "code",
   "execution_count": 2,
   "metadata": {
    "pycharm": {
     "name": "#%%\n"
    }
   },
   "outputs": [],
   "source": [
    "load_dotenv('credentials.env')\n",
    "\n",
    "conn = pyodbc.connect(\n",
    "    'DRIVER={ODBC Driver 17 for SQL Server};'\n",
    "    'SERVER='+os.environ.get('server')+';'\n",
    "    'DATABASE='+os.environ.get('database')+';'\n",
    "    'UID='+ os.environ.get('uid') +';'\n",
    "    'PWD='+ os.environ.get('pwd')+';')"
   ]
  },
  {
   "cell_type": "markdown",
   "metadata": {},
   "source": [
    "1. Retrieve top 10 products with the highest total revenue."
   ]
  },
  {
   "cell_type": "code",
   "execution_count": 4,
   "metadata": {
    "pycharm": {
     "name": "#%%\n"
    }
   },
   "outputs": [
    {
     "data": {
      "text/plain": "         ProductName              Model      Revenue\n0  ML Mountain Pedal  ML Mountain Pedal  2709040.950\n1      ML Road Pedal      ML Road Pedal  2390330.250\n2       Front Brakes       Front Brakes  2277948.750\n3        Rear Brakes        Rear Brakes  2277948.750\n4   HL Mountain Tire   HL Mountain Tire  2092346.025\n5       ML Road Tire       ML Road Tire  1866376.050\n6   ML Mountain Tire   ML Mountain Tire  1800922.200\n7      Touring Pedal      Touring Pedal  1766855.475\n8  HL Mountain Pedal  HL Mountain Pedal  1766855.475\n9  LL Mountain Pedal  LL Mountain Pedal  1766560.950",
      "text/html": "<div>\n<style scoped>\n    .dataframe tbody tr th:only-of-type {\n        vertical-align: middle;\n    }\n\n    .dataframe tbody tr th {\n        vertical-align: top;\n    }\n\n    .dataframe thead th {\n        text-align: right;\n    }\n</style>\n<table border=\"1\" class=\"dataframe\">\n  <thead>\n    <tr style=\"text-align: right;\">\n      <th></th>\n      <th>ProductName</th>\n      <th>Model</th>\n      <th>Revenue</th>\n    </tr>\n  </thead>\n  <tbody>\n    <tr>\n      <th>0</th>\n      <td>ML Mountain Pedal</td>\n      <td>ML Mountain Pedal</td>\n      <td>2709040.950</td>\n    </tr>\n    <tr>\n      <th>1</th>\n      <td>ML Road Pedal</td>\n      <td>ML Road Pedal</td>\n      <td>2390330.250</td>\n    </tr>\n    <tr>\n      <th>2</th>\n      <td>Front Brakes</td>\n      <td>Front Brakes</td>\n      <td>2277948.750</td>\n    </tr>\n    <tr>\n      <th>3</th>\n      <td>Rear Brakes</td>\n      <td>Rear Brakes</td>\n      <td>2277948.750</td>\n    </tr>\n    <tr>\n      <th>4</th>\n      <td>HL Mountain Tire</td>\n      <td>HL Mountain Tire</td>\n      <td>2092346.025</td>\n    </tr>\n    <tr>\n      <th>5</th>\n      <td>ML Road Tire</td>\n      <td>ML Road Tire</td>\n      <td>1866376.050</td>\n    </tr>\n    <tr>\n      <th>6</th>\n      <td>ML Mountain Tire</td>\n      <td>ML Mountain Tire</td>\n      <td>1800922.200</td>\n    </tr>\n    <tr>\n      <th>7</th>\n      <td>Touring Pedal</td>\n      <td>Touring Pedal</td>\n      <td>1766855.475</td>\n    </tr>\n    <tr>\n      <th>8</th>\n      <td>HL Mountain Pedal</td>\n      <td>HL Mountain Pedal</td>\n      <td>1766855.475</td>\n    </tr>\n    <tr>\n      <th>9</th>\n      <td>LL Mountain Pedal</td>\n      <td>LL Mountain Pedal</td>\n      <td>1766560.950</td>\n    </tr>\n  </tbody>\n</table>\n</div>"
     },
     "metadata": {},
     "output_type": "display_data"
    }
   ],
   "source": [
    "top_ten_df = pd.read_sql(\"WITH revenue_by_product AS \"\n",
    "                         \"(SELECT p.Name AS ProductName, pm.Name AS Model, SUM(pod.LineTotal) AS Revenue \"\n",
    "                         \"FROM Purchasing.PurchaseOrderDetail pod \"\n",
    "                         \"INNER JOIN Production.Product p \"\n",
    "                         \"ON pod.ProductID = p.ProductID \"\n",
    "                         \"INNER JOIN Production.ProductModel pm \"\n",
    "                         \"ON pm.ProductModelID = p.ProductModelID \"\n",
    "                         \"GROUP BY p.Name, pm.Name \"\n",
    "                         \"ORDER BY SUM(pod.LineTotal) DESC \"\n",
    "                         \"OFFSET 0 ROWS \"\n",
    "                         \"FETCH FIRST 10 ROWS ONLY) \"\n",
    "                         \"SELECT ProductName, Model, Revenue \"\n",
    "                         \"FROM revenue_by_product;\", conn)\n",
    "\n",
    "display(top_ten_df)"
   ]
  }
 ],
 "metadata": {
  "kernelspec": {
   "display_name": "Python 3",
   "language": "python",
   "name": "python3"
  },
  "language_info": {
   "codemirror_mode": {
    "name": "ipython",
    "version": 3
   },
   "file_extension": ".py",
   "mimetype": "text/x-python",
   "name": "python",
   "nbconvert_exporter": "python",
   "pygments_lexer": "ipython3",
   "version": "3.9.0"
  }
 },
 "nbformat": 4,
 "nbformat_minor": 1
}