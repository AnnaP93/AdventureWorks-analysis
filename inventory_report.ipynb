{
 "cells": [
  {
   "cell_type": "markdown",
   "metadata": {},
   "source": [
    "## This report is generated to evaluate the current inventory within the production facilities."
   ]
  },
  {
   "cell_type": "code",
   "execution_count": 6,
   "metadata": {},
   "outputs": [],
   "source": [
    "import pyodbc\n",
    "import os\n",
    "from IPython.core.display import display\n",
    "from dotenv import load_dotenv\n",
    "import pandas as pd"
   ]
  },
  {
   "cell_type": "markdown",
   "metadata": {},
   "source": [
    "Connecting to SQL Server"
   ]
  },
  {
   "cell_type": "code",
   "execution_count": 7,
   "metadata": {
    "pycharm": {
     "name": "#%%\n"
    }
   },
   "outputs": [],
   "source": [
    "load_dotenv('credentials.env')\n",
    "\n",
    "conn = pyodbc.connect(\n",
    "    'DRIVER={ODBC Driver 17 for SQL Server};'\n",
    "    'SERVER='+os.environ.get('server')+';'\n",
    "    'DATABASE='+os.environ.get('database')+';'\n",
    "    'UID='+ os.environ.get('uid') +';'\n",
    "    'PWD='+ os.environ.get('pwd')+';')"
   ]
  },
  {
   "cell_type": "markdown",
   "metadata": {
    "pycharm": {
     "name": "#%% md\n"
    }
   },
   "source": [
    "#### 1. Retrieve the products (and their respective storage locations) that are running low (under 50 units)."
   ]
  },
  {
   "cell_type": "code",
   "execution_count": 8,
   "metadata": {
    "pycharm": {
     "name": "#%%\n"
    }
   },
   "outputs": [
    {
     "data": {
      "text/plain": "                  Location                         Product  TotalQuantity\n0           Final Assembly          Mountain-500 Black, 52             30\n1           Final Assembly         Mountain-500 Silver, 44             30\n2           Final Assembly              Road-250 Black, 48             49\n3           Final Assembly                Road-450 Red, 52             49\n4           Final Assembly              Road-650 Black, 60             49\n5           Final Assembly              Road-750 Black, 44             30\n6           Final Assembly         Touring-1000 Yellow, 54             40\n7           Final Assembly           Touring-2000 Blue, 60             49\n8           Final Assembly           Touring-3000 Blue, 54             35\n9           Final Assembly         Touring-3000 Yellow, 54             36\n10  Finished Goods Storage           Bike Wash - Dissolver             36\n11  Finished Goods Storage           Half-Finger Gloves, L             36\n12  Finished Goods Storage           Half-Finger Gloves, M              0\n13  Finished Goods Storage             Hitch Rack - 4-Bike              0\n14  Finished Goods Storage          Mountain-100 Black, 44             49\n15  Finished Goods Storage         Mountain-100 Silver, 38             49\n16  Finished Goods Storage         Mountain-200 Silver, 46             32\n17  Finished Goods Storage          Mountain-300 Black, 44             32\n18  Finished Goods Storage                Road-150 Red, 48             32\n19  Finished Goods Storage                Road-450 Red, 44             30\n20  Finished Goods Storage           Road-550-W Yellow, 44             30\n21  Finished Goods Storage                Road-650 Red, 52             32\n22  Finished Goods Storage  Short-Sleeve Classic Jersey, L             36\n23  Finished Goods Storage  Short-Sleeve Classic Jersey, M              0\n24  Finished Goods Storage           Touring-1000 Blue, 60             30\n25  Finished Goods Storage         Touring-1000 Yellow, 54             35\n26  Finished Goods Storage           Touring-2000 Blue, 54             30\n27  Finished Goods Storage               Women's Tights, L             36\n28  Finished Goods Storage               Women's Tights, M              0\n29                   Paint                   Paint - Black             16\n30                   Paint                    Paint - Blue             25\n31                   Paint                     Paint - Red             28\n32                   Paint                  Paint - Silver              4\n33                   Paint                  Paint - Yellow             44\n34              Paint Shop                   Paint - Black             17\n35              Paint Shop                    Paint - Blue             49\n36              Paint Shop                     Paint - Red             41\n37              Paint Shop                  Paint - Silver             49\n38              Paint Shop                  Paint - Yellow             30\n39           Paint Storage                   Paint - Black             14\n40           Paint Storage                    Paint - Blue             35\n41           Paint Storage                     Paint - Red             24\n42           Paint Storage                  Paint - Silver             12\n43           Paint Storage                  Paint - Yellow             25",
      "text/html": "<div>\n<style scoped>\n    .dataframe tbody tr th:only-of-type {\n        vertical-align: middle;\n    }\n\n    .dataframe tbody tr th {\n        vertical-align: top;\n    }\n\n    .dataframe thead th {\n        text-align: right;\n    }\n</style>\n<table border=\"1\" class=\"dataframe\">\n  <thead>\n    <tr style=\"text-align: right;\">\n      <th></th>\n      <th>Location</th>\n      <th>Product</th>\n      <th>TotalQuantity</th>\n    </tr>\n  </thead>\n  <tbody>\n    <tr>\n      <th>0</th>\n      <td>Final Assembly</td>\n      <td>Mountain-500 Black, 52</td>\n      <td>30</td>\n    </tr>\n    <tr>\n      <th>1</th>\n      <td>Final Assembly</td>\n      <td>Mountain-500 Silver, 44</td>\n      <td>30</td>\n    </tr>\n    <tr>\n      <th>2</th>\n      <td>Final Assembly</td>\n      <td>Road-250 Black, 48</td>\n      <td>49</td>\n    </tr>\n    <tr>\n      <th>3</th>\n      <td>Final Assembly</td>\n      <td>Road-450 Red, 52</td>\n      <td>49</td>\n    </tr>\n    <tr>\n      <th>4</th>\n      <td>Final Assembly</td>\n      <td>Road-650 Black, 60</td>\n      <td>49</td>\n    </tr>\n    <tr>\n      <th>5</th>\n      <td>Final Assembly</td>\n      <td>Road-750 Black, 44</td>\n      <td>30</td>\n    </tr>\n    <tr>\n      <th>6</th>\n      <td>Final Assembly</td>\n      <td>Touring-1000 Yellow, 54</td>\n      <td>40</td>\n    </tr>\n    <tr>\n      <th>7</th>\n      <td>Final Assembly</td>\n      <td>Touring-2000 Blue, 60</td>\n      <td>49</td>\n    </tr>\n    <tr>\n      <th>8</th>\n      <td>Final Assembly</td>\n      <td>Touring-3000 Blue, 54</td>\n      <td>35</td>\n    </tr>\n    <tr>\n      <th>9</th>\n      <td>Final Assembly</td>\n      <td>Touring-3000 Yellow, 54</td>\n      <td>36</td>\n    </tr>\n    <tr>\n      <th>10</th>\n      <td>Finished Goods Storage</td>\n      <td>Bike Wash - Dissolver</td>\n      <td>36</td>\n    </tr>\n    <tr>\n      <th>11</th>\n      <td>Finished Goods Storage</td>\n      <td>Half-Finger Gloves, L</td>\n      <td>36</td>\n    </tr>\n    <tr>\n      <th>12</th>\n      <td>Finished Goods Storage</td>\n      <td>Half-Finger Gloves, M</td>\n      <td>0</td>\n    </tr>\n    <tr>\n      <th>13</th>\n      <td>Finished Goods Storage</td>\n      <td>Hitch Rack - 4-Bike</td>\n      <td>0</td>\n    </tr>\n    <tr>\n      <th>14</th>\n      <td>Finished Goods Storage</td>\n      <td>Mountain-100 Black, 44</td>\n      <td>49</td>\n    </tr>\n    <tr>\n      <th>15</th>\n      <td>Finished Goods Storage</td>\n      <td>Mountain-100 Silver, 38</td>\n      <td>49</td>\n    </tr>\n    <tr>\n      <th>16</th>\n      <td>Finished Goods Storage</td>\n      <td>Mountain-200 Silver, 46</td>\n      <td>32</td>\n    </tr>\n    <tr>\n      <th>17</th>\n      <td>Finished Goods Storage</td>\n      <td>Mountain-300 Black, 44</td>\n      <td>32</td>\n    </tr>\n    <tr>\n      <th>18</th>\n      <td>Finished Goods Storage</td>\n      <td>Road-150 Red, 48</td>\n      <td>32</td>\n    </tr>\n    <tr>\n      <th>19</th>\n      <td>Finished Goods Storage</td>\n      <td>Road-450 Red, 44</td>\n      <td>30</td>\n    </tr>\n    <tr>\n      <th>20</th>\n      <td>Finished Goods Storage</td>\n      <td>Road-550-W Yellow, 44</td>\n      <td>30</td>\n    </tr>\n    <tr>\n      <th>21</th>\n      <td>Finished Goods Storage</td>\n      <td>Road-650 Red, 52</td>\n      <td>32</td>\n    </tr>\n    <tr>\n      <th>22</th>\n      <td>Finished Goods Storage</td>\n      <td>Short-Sleeve Classic Jersey, L</td>\n      <td>36</td>\n    </tr>\n    <tr>\n      <th>23</th>\n      <td>Finished Goods Storage</td>\n      <td>Short-Sleeve Classic Jersey, M</td>\n      <td>0</td>\n    </tr>\n    <tr>\n      <th>24</th>\n      <td>Finished Goods Storage</td>\n      <td>Touring-1000 Blue, 60</td>\n      <td>30</td>\n    </tr>\n    <tr>\n      <th>25</th>\n      <td>Finished Goods Storage</td>\n      <td>Touring-1000 Yellow, 54</td>\n      <td>35</td>\n    </tr>\n    <tr>\n      <th>26</th>\n      <td>Finished Goods Storage</td>\n      <td>Touring-2000 Blue, 54</td>\n      <td>30</td>\n    </tr>\n    <tr>\n      <th>27</th>\n      <td>Finished Goods Storage</td>\n      <td>Women's Tights, L</td>\n      <td>36</td>\n    </tr>\n    <tr>\n      <th>28</th>\n      <td>Finished Goods Storage</td>\n      <td>Women's Tights, M</td>\n      <td>0</td>\n    </tr>\n    <tr>\n      <th>29</th>\n      <td>Paint</td>\n      <td>Paint - Black</td>\n      <td>16</td>\n    </tr>\n    <tr>\n      <th>30</th>\n      <td>Paint</td>\n      <td>Paint - Blue</td>\n      <td>25</td>\n    </tr>\n    <tr>\n      <th>31</th>\n      <td>Paint</td>\n      <td>Paint - Red</td>\n      <td>28</td>\n    </tr>\n    <tr>\n      <th>32</th>\n      <td>Paint</td>\n      <td>Paint - Silver</td>\n      <td>4</td>\n    </tr>\n    <tr>\n      <th>33</th>\n      <td>Paint</td>\n      <td>Paint - Yellow</td>\n      <td>44</td>\n    </tr>\n    <tr>\n      <th>34</th>\n      <td>Paint Shop</td>\n      <td>Paint - Black</td>\n      <td>17</td>\n    </tr>\n    <tr>\n      <th>35</th>\n      <td>Paint Shop</td>\n      <td>Paint - Blue</td>\n      <td>49</td>\n    </tr>\n    <tr>\n      <th>36</th>\n      <td>Paint Shop</td>\n      <td>Paint - Red</td>\n      <td>41</td>\n    </tr>\n    <tr>\n      <th>37</th>\n      <td>Paint Shop</td>\n      <td>Paint - Silver</td>\n      <td>49</td>\n    </tr>\n    <tr>\n      <th>38</th>\n      <td>Paint Shop</td>\n      <td>Paint - Yellow</td>\n      <td>30</td>\n    </tr>\n    <tr>\n      <th>39</th>\n      <td>Paint Storage</td>\n      <td>Paint - Black</td>\n      <td>14</td>\n    </tr>\n    <tr>\n      <th>40</th>\n      <td>Paint Storage</td>\n      <td>Paint - Blue</td>\n      <td>35</td>\n    </tr>\n    <tr>\n      <th>41</th>\n      <td>Paint Storage</td>\n      <td>Paint - Red</td>\n      <td>24</td>\n    </tr>\n    <tr>\n      <th>42</th>\n      <td>Paint Storage</td>\n      <td>Paint - Silver</td>\n      <td>12</td>\n    </tr>\n    <tr>\n      <th>43</th>\n      <td>Paint Storage</td>\n      <td>Paint - Yellow</td>\n      <td>25</td>\n    </tr>\n  </tbody>\n</table>\n</div>"
     },
     "metadata": {},
     "output_type": "display_data"
    }
   ],
   "source": [
    "low_inventory_df = pd.read_sql(\"SELECT l.Name AS Location, \"\n",
    "                               \"p.Name AS Product, \"\n",
    "                               \"SUM(prod_inv.Quantity) AS TotalQuantity \"\n",
    "                               \"FROM Production.ProductInventory prod_inv \"\n",
    "                               \"INNER JOIN Production.[Location] l \"\n",
    "                               \"ON prod_inv.LocationID = l.LocationID \"\n",
    "                               \"INNER JOIN Production.Product p \"\n",
    "                               \"ON prod_inv.ProductID = p.ProductID \"\n",
    "                               \"GROUP BY l.Name, p.Name \"\n",
    "                               \"HAVING SUM(prod_inv.Quantity) < 50 \"\n",
    "                               \"ORDER BY Location, Product;\", conn)\n",
    "\n",
    "display(low_inventory_df)"
   ]
  },
  {
   "cell_type": "markdown",
   "metadata": {
    "pycharm": {
     "name": "#%% md\n"
    }
   },
   "source": [
    "#### 2. Retrieve all products (Name and Model) and their inventory locations where safety stock level falls below or equal to the number of available units."
   ]
  },
  {
   "cell_type": "code",
   "execution_count": 9,
   "metadata": {
    "pycharm": {
     "name": "#%%\n"
    }
   },
   "outputs": [
    {
     "data": {
      "text/plain": "                 Location                     ProductName  \\\n0             Subassembly         HL Mountain Seat/Saddle   \n1   Miscellaneous Storage         HL Mountain Seat/Saddle   \n2  Finished Goods Storage         Touring-1000 Yellow, 54   \n3  Finished Goods Storage               Women's Tights, M   \n4  Finished Goods Storage           Half-Finger Gloves, M   \n5  Finished Goods Storage             Hitch Rack - 4-Bike   \n6  Finished Goods Storage  Short-Sleeve Classic Jersey, M   \n7          Final Assembly         Touring-1000 Yellow, 54   \n8          Final Assembly         HL Mountain Seat/Saddle   \n\n                         Model  SafetyStockLevel  ReorderPoint  \\\n0    HL Mountain Seat/Saddle 2               500           375   \n1    HL Mountain Seat/Saddle 2               500           375   \n2                 Touring-1000               100            75   \n3               Women's Tights                 4             3   \n4           Half-Finger Gloves                 4             3   \n5          Hitch Rack - 4-Bike                 4             3   \n6  Short-Sleeve Classic Jersey                 4             3   \n7                 Touring-1000               100            75   \n8    HL Mountain Seat/Saddle 2               500           375   \n\n   TotalAvailableQty  UnitsToReorder  \n0                355              20  \n1                355              20  \n2                 75               0  \n3                  0               3  \n4                  0               3  \n5                  0               3  \n6                  0               3  \n7                 75               0  \n8                355              20  ",
      "text/html": "<div>\n<style scoped>\n    .dataframe tbody tr th:only-of-type {\n        vertical-align: middle;\n    }\n\n    .dataframe tbody tr th {\n        vertical-align: top;\n    }\n\n    .dataframe thead th {\n        text-align: right;\n    }\n</style>\n<table border=\"1\" class=\"dataframe\">\n  <thead>\n    <tr style=\"text-align: right;\">\n      <th></th>\n      <th>Location</th>\n      <th>ProductName</th>\n      <th>Model</th>\n      <th>SafetyStockLevel</th>\n      <th>ReorderPoint</th>\n      <th>TotalAvailableQty</th>\n      <th>UnitsToReorder</th>\n    </tr>\n  </thead>\n  <tbody>\n    <tr>\n      <th>0</th>\n      <td>Subassembly</td>\n      <td>HL Mountain Seat/Saddle</td>\n      <td>HL Mountain Seat/Saddle 2</td>\n      <td>500</td>\n      <td>375</td>\n      <td>355</td>\n      <td>20</td>\n    </tr>\n    <tr>\n      <th>1</th>\n      <td>Miscellaneous Storage</td>\n      <td>HL Mountain Seat/Saddle</td>\n      <td>HL Mountain Seat/Saddle 2</td>\n      <td>500</td>\n      <td>375</td>\n      <td>355</td>\n      <td>20</td>\n    </tr>\n    <tr>\n      <th>2</th>\n      <td>Finished Goods Storage</td>\n      <td>Touring-1000 Yellow, 54</td>\n      <td>Touring-1000</td>\n      <td>100</td>\n      <td>75</td>\n      <td>75</td>\n      <td>0</td>\n    </tr>\n    <tr>\n      <th>3</th>\n      <td>Finished Goods Storage</td>\n      <td>Women's Tights, M</td>\n      <td>Women's Tights</td>\n      <td>4</td>\n      <td>3</td>\n      <td>0</td>\n      <td>3</td>\n    </tr>\n    <tr>\n      <th>4</th>\n      <td>Finished Goods Storage</td>\n      <td>Half-Finger Gloves, M</td>\n      <td>Half-Finger Gloves</td>\n      <td>4</td>\n      <td>3</td>\n      <td>0</td>\n      <td>3</td>\n    </tr>\n    <tr>\n      <th>5</th>\n      <td>Finished Goods Storage</td>\n      <td>Hitch Rack - 4-Bike</td>\n      <td>Hitch Rack - 4-Bike</td>\n      <td>4</td>\n      <td>3</td>\n      <td>0</td>\n      <td>3</td>\n    </tr>\n    <tr>\n      <th>6</th>\n      <td>Finished Goods Storage</td>\n      <td>Short-Sleeve Classic Jersey, M</td>\n      <td>Short-Sleeve Classic Jersey</td>\n      <td>4</td>\n      <td>3</td>\n      <td>0</td>\n      <td>3</td>\n    </tr>\n    <tr>\n      <th>7</th>\n      <td>Final Assembly</td>\n      <td>Touring-1000 Yellow, 54</td>\n      <td>Touring-1000</td>\n      <td>100</td>\n      <td>75</td>\n      <td>75</td>\n      <td>0</td>\n    </tr>\n    <tr>\n      <th>8</th>\n      <td>Final Assembly</td>\n      <td>HL Mountain Seat/Saddle</td>\n      <td>HL Mountain Seat/Saddle 2</td>\n      <td>500</td>\n      <td>375</td>\n      <td>355</td>\n      <td>20</td>\n    </tr>\n  </tbody>\n</table>\n</div>"
     },
     "metadata": {},
     "output_type": "display_data"
    }
   ],
   "source": [
    "products_to_order_df = pd.read_sql('SELECT l.Name AS Location, '\n",
    "                 'p.Name AS ProductName, '\n",
    "                 'pm.Name AS Model, '\n",
    "                 'p.SafetyStockLevel, '\n",
    "                 'p.ReorderPoint, '\n",
    "                 'TotalAvailableQty, '\n",
    "                 'p.ReorderPoint - TotalAvailableQty AS UnitsToReorder '\n",
    "                 'FROM Production.Product p '\n",
    "                 'INNER JOIN (SELECT ProductID, '\n",
    "                 'LocationID, '\n",
    "                 'SUM(Quantity) OVER(PARTITION BY ProductID) AS TotalAvailableQty '\n",
    "                 'FROM Production.ProductInventory) prod_inv '\n",
    "                 'ON prod_inv.ProductID = p.ProductID '\n",
    "                 'INNER JOIN Production.ProductModel pm '\n",
    "                 'ON pm.ProductModelID = p.ProductModelID '\n",
    "                 'INNER JOIN Production.[Location] l '\n",
    "                 'ON prod_inv.LocationID = l.LocationID '\n",
    "                 'WHERE TotalAvailableQty <= ReorderPoint '\n",
    "                 'ORDER BY Location DESC;', conn)\n",
    "\n",
    "display(products_to_order_df)"
   ]
  },
  {
   "cell_type": "markdown",
   "metadata": {},
   "source": [
    "#### 3. Retrieve all products (ProductID, Name, Model) that do not have any orders."
   ]
  },
  {
   "cell_type": "code",
   "execution_count": 10,
   "metadata": {
    "pycharm": {
     "name": "#%%\n"
    }
   },
   "outputs": [
    {
     "data": {
      "text/plain": "                ProductName                      Model\n0              Front Brakes               Front Brakes\n1          HL Mountain Tire           HL Mountain Tire\n2             HL Road Pedal              HL Road Pedal\n3              HL Road Tire               HL Road Tire\n4    HL Touring Seat/Saddle     HL Touring Seat/Saddle\n5   LL Mountain Seat/Saddle  LL Mountain Seat/Saddle 2\n6          LL Mountain Tire           LL Mountain Tire\n7       LL Road Seat/Saddle      LL Road Seat/Saddle 1\n8              LL Road Tire               LL Road Tire\n9    LL Touring Seat/Saddle     LL Touring Seat/Saddle\n10         ML Mountain Tire           ML Mountain Tire\n11      ML Road Seat/Saddle      ML Road Seat/Saddle 2\n12             ML Road Tire               ML Road Tire\n13       Mountain Tire Tube         Mountain Tire Tube\n14              Rear Brakes                Rear Brakes\n15           Road Tire Tube             Road Tire Tube\n16            Touring Pedal              Touring Pedal\n17             Touring Tire               Touring Tire\n18        Touring Tire Tube          Touring Tire Tube",
      "text/html": "<div>\n<style scoped>\n    .dataframe tbody tr th:only-of-type {\n        vertical-align: middle;\n    }\n\n    .dataframe tbody tr th {\n        vertical-align: top;\n    }\n\n    .dataframe thead th {\n        text-align: right;\n    }\n</style>\n<table border=\"1\" class=\"dataframe\">\n  <thead>\n    <tr style=\"text-align: right;\">\n      <th></th>\n      <th>ProductName</th>\n      <th>Model</th>\n    </tr>\n  </thead>\n  <tbody>\n    <tr>\n      <th>0</th>\n      <td>Front Brakes</td>\n      <td>Front Brakes</td>\n    </tr>\n    <tr>\n      <th>1</th>\n      <td>HL Mountain Tire</td>\n      <td>HL Mountain Tire</td>\n    </tr>\n    <tr>\n      <th>2</th>\n      <td>HL Road Pedal</td>\n      <td>HL Road Pedal</td>\n    </tr>\n    <tr>\n      <th>3</th>\n      <td>HL Road Tire</td>\n      <td>HL Road Tire</td>\n    </tr>\n    <tr>\n      <th>4</th>\n      <td>HL Touring Seat/Saddle</td>\n      <td>HL Touring Seat/Saddle</td>\n    </tr>\n    <tr>\n      <th>5</th>\n      <td>LL Mountain Seat/Saddle</td>\n      <td>LL Mountain Seat/Saddle 2</td>\n    </tr>\n    <tr>\n      <th>6</th>\n      <td>LL Mountain Tire</td>\n      <td>LL Mountain Tire</td>\n    </tr>\n    <tr>\n      <th>7</th>\n      <td>LL Road Seat/Saddle</td>\n      <td>LL Road Seat/Saddle 1</td>\n    </tr>\n    <tr>\n      <th>8</th>\n      <td>LL Road Tire</td>\n      <td>LL Road Tire</td>\n    </tr>\n    <tr>\n      <th>9</th>\n      <td>LL Touring Seat/Saddle</td>\n      <td>LL Touring Seat/Saddle</td>\n    </tr>\n    <tr>\n      <th>10</th>\n      <td>ML Mountain Tire</td>\n      <td>ML Mountain Tire</td>\n    </tr>\n    <tr>\n      <th>11</th>\n      <td>ML Road Seat/Saddle</td>\n      <td>ML Road Seat/Saddle 2</td>\n    </tr>\n    <tr>\n      <th>12</th>\n      <td>ML Road Tire</td>\n      <td>ML Road Tire</td>\n    </tr>\n    <tr>\n      <th>13</th>\n      <td>Mountain Tire Tube</td>\n      <td>Mountain Tire Tube</td>\n    </tr>\n    <tr>\n      <th>14</th>\n      <td>Rear Brakes</td>\n      <td>Rear Brakes</td>\n    </tr>\n    <tr>\n      <th>15</th>\n      <td>Road Tire Tube</td>\n      <td>Road Tire Tube</td>\n    </tr>\n    <tr>\n      <th>16</th>\n      <td>Touring Pedal</td>\n      <td>Touring Pedal</td>\n    </tr>\n    <tr>\n      <th>17</th>\n      <td>Touring Tire</td>\n      <td>Touring Tire</td>\n    </tr>\n    <tr>\n      <th>18</th>\n      <td>Touring Tire Tube</td>\n      <td>Touring Tire Tube</td>\n    </tr>\n  </tbody>\n</table>\n</div>"
     },
     "metadata": {},
     "output_type": "display_data"
    }
   ],
   "source": [
    "orders_check_df = pd.read_sql(\"SELECT p.Name AS ProductName, \"\n",
    "                                    \"pm.Name AS Model \"\n",
    "                                    \"FROM Production.Product p \"\n",
    "                                    \"INNER JOIN Production.ProductModel pm \"\n",
    "                                    \"ON pm.ProductModelID = p.ProductModelID \"\n",
    "                                    \"INNER JOIN Purchasing.ProductVendor pv \"\n",
    "                                    \"ON pv.ProductID = p.ProductID \"\n",
    "                                    \"GROUP BY p.Name, pm.Name \"\n",
    "                                    \"HAVING SUM(pv.OnOrderQty) IS NULL \"\n",
    "                                    \"ORDER BY p.Name ASC;\", conn)\n",
    "display(orders_check_df)\n"
   ]
  },
  {
   "cell_type": "code",
   "execution_count": 10,
   "metadata": {},
   "outputs": [],
   "source": []
  }
 ],
 "metadata": {
  "kernelspec": {
   "display_name": "Python 3",
   "language": "python",
   "name": "python3"
  },
  "language_info": {
   "codemirror_mode": {
    "name": "ipython",
    "version": 3
   },
   "file_extension": ".py",
   "mimetype": "text/x-python",
   "name": "python",
   "nbconvert_exporter": "python",
   "pygments_lexer": "ipython3",
   "version": "3.9.0"
  }
 },
 "nbformat": 4,
 "nbformat_minor": 1
}