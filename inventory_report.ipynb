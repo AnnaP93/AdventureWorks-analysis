{
 "cells": [
  {
   "cell_type": "code",
   "execution_count": 1,
   "metadata": {},
   "outputs": [],
   "source": [
    "import pyodbc\n",
    "import os\n",
    "from IPython.core.display import display\n",
    "from dotenv import load_dotenv\n",
    "import pandas as pd"
   ]
  },
  {
   "cell_type": "markdown",
   "metadata": {},
   "source": [
    "Connecting to SQL Server"
   ]
  },
  {
   "cell_type": "code",
   "execution_count": 3,
   "metadata": {
    "pycharm": {
     "name": "#%%\n"
    }
   },
   "outputs": [],
   "source": [
    "load_dotenv('credentials.env')\n",
    "\n",
    "conn = pyodbc.connect(\n",
    "    'DRIVER={ODBC Driver 17 for SQL Server};'\n",
    "    'SERVER='+os.environ.get('server')+';'\n",
    "    'DATABASE='+os.environ.get('database')+';'\n",
    "    'UID='+ os.environ.get('uid') +';'\n",
    "    'PWD='+ os.environ.get('pwd')+';')"
   ]
  },
  {
   "cell_type": "markdown",
   "metadata": {
    "pycharm": {
     "name": "#%% md\n"
    }
   },
   "source": [
    "1. Retrieve the products (and their respective storage locations) that are running low (under 50 units)."
   ]
  },
  {
   "cell_type": "code",
   "execution_count": 5,
   "metadata": {
    "pycharm": {
     "name": "#%%\n"
    }
   },
   "outputs": [
    {
     "data": {
      "text/plain": "                           Product                Location  TotalQuantity\n0           Mountain-500 Black, 52          Final Assembly             30\n1          Mountain-500 Silver, 44          Final Assembly             30\n2               Road-250 Black, 48          Final Assembly             49\n3                 Road-450 Red, 52          Final Assembly             49\n4               Road-650 Black, 60          Final Assembly             49\n5               Road-750 Black, 44          Final Assembly             30\n6          Touring-1000 Yellow, 54          Final Assembly             40\n7            Touring-2000 Blue, 60          Final Assembly             49\n8            Touring-3000 Blue, 54          Final Assembly             35\n9          Touring-3000 Yellow, 54          Final Assembly             36\n10           Bike Wash - Dissolver  Finished Goods Storage             36\n11           Half-Finger Gloves, L  Finished Goods Storage             36\n12           Half-Finger Gloves, M  Finished Goods Storage              0\n13             Hitch Rack - 4-Bike  Finished Goods Storage              0\n14          Mountain-100 Black, 44  Finished Goods Storage             49\n15         Mountain-100 Silver, 38  Finished Goods Storage             49\n16         Mountain-200 Silver, 46  Finished Goods Storage             32\n17          Mountain-300 Black, 44  Finished Goods Storage             32\n18                Road-150 Red, 48  Finished Goods Storage             32\n19                Road-450 Red, 44  Finished Goods Storage             30\n20           Road-550-W Yellow, 44  Finished Goods Storage             30\n21                Road-650 Red, 52  Finished Goods Storage             32\n22  Short-Sleeve Classic Jersey, L  Finished Goods Storage             36\n23  Short-Sleeve Classic Jersey, M  Finished Goods Storage              0\n24           Touring-1000 Blue, 60  Finished Goods Storage             30\n25         Touring-1000 Yellow, 54  Finished Goods Storage             35\n26           Touring-2000 Blue, 54  Finished Goods Storage             30\n27               Women's Tights, L  Finished Goods Storage             36\n28               Women's Tights, M  Finished Goods Storage              0\n29                   Paint - Black                   Paint             16\n30                    Paint - Blue                   Paint             25\n31                     Paint - Red                   Paint             28\n32                  Paint - Silver                   Paint              4\n33                  Paint - Yellow                   Paint             44\n34                   Paint - Black              Paint Shop             17\n35                    Paint - Blue              Paint Shop             49\n36                     Paint - Red              Paint Shop             41\n37                  Paint - Silver              Paint Shop             49\n38                  Paint - Yellow              Paint Shop             30\n39                   Paint - Black           Paint Storage             14\n40                    Paint - Blue           Paint Storage             35\n41                     Paint - Red           Paint Storage             24\n42                  Paint - Silver           Paint Storage             12\n43                  Paint - Yellow           Paint Storage             25",
      "text/html": "<div>\n<style scoped>\n    .dataframe tbody tr th:only-of-type {\n        vertical-align: middle;\n    }\n\n    .dataframe tbody tr th {\n        vertical-align: top;\n    }\n\n    .dataframe thead th {\n        text-align: right;\n    }\n</style>\n<table border=\"1\" class=\"dataframe\">\n  <thead>\n    <tr style=\"text-align: right;\">\n      <th></th>\n      <th>Product</th>\n      <th>Location</th>\n      <th>TotalQuantity</th>\n    </tr>\n  </thead>\n  <tbody>\n    <tr>\n      <th>0</th>\n      <td>Mountain-500 Black, 52</td>\n      <td>Final Assembly</td>\n      <td>30</td>\n    </tr>\n    <tr>\n      <th>1</th>\n      <td>Mountain-500 Silver, 44</td>\n      <td>Final Assembly</td>\n      <td>30</td>\n    </tr>\n    <tr>\n      <th>2</th>\n      <td>Road-250 Black, 48</td>\n      <td>Final Assembly</td>\n      <td>49</td>\n    </tr>\n    <tr>\n      <th>3</th>\n      <td>Road-450 Red, 52</td>\n      <td>Final Assembly</td>\n      <td>49</td>\n    </tr>\n    <tr>\n      <th>4</th>\n      <td>Road-650 Black, 60</td>\n      <td>Final Assembly</td>\n      <td>49</td>\n    </tr>\n    <tr>\n      <th>5</th>\n      <td>Road-750 Black, 44</td>\n      <td>Final Assembly</td>\n      <td>30</td>\n    </tr>\n    <tr>\n      <th>6</th>\n      <td>Touring-1000 Yellow, 54</td>\n      <td>Final Assembly</td>\n      <td>40</td>\n    </tr>\n    <tr>\n      <th>7</th>\n      <td>Touring-2000 Blue, 60</td>\n      <td>Final Assembly</td>\n      <td>49</td>\n    </tr>\n    <tr>\n      <th>8</th>\n      <td>Touring-3000 Blue, 54</td>\n      <td>Final Assembly</td>\n      <td>35</td>\n    </tr>\n    <tr>\n      <th>9</th>\n      <td>Touring-3000 Yellow, 54</td>\n      <td>Final Assembly</td>\n      <td>36</td>\n    </tr>\n    <tr>\n      <th>10</th>\n      <td>Bike Wash - Dissolver</td>\n      <td>Finished Goods Storage</td>\n      <td>36</td>\n    </tr>\n    <tr>\n      <th>11</th>\n      <td>Half-Finger Gloves, L</td>\n      <td>Finished Goods Storage</td>\n      <td>36</td>\n    </tr>\n    <tr>\n      <th>12</th>\n      <td>Half-Finger Gloves, M</td>\n      <td>Finished Goods Storage</td>\n      <td>0</td>\n    </tr>\n    <tr>\n      <th>13</th>\n      <td>Hitch Rack - 4-Bike</td>\n      <td>Finished Goods Storage</td>\n      <td>0</td>\n    </tr>\n    <tr>\n      <th>14</th>\n      <td>Mountain-100 Black, 44</td>\n      <td>Finished Goods Storage</td>\n      <td>49</td>\n    </tr>\n    <tr>\n      <th>15</th>\n      <td>Mountain-100 Silver, 38</td>\n      <td>Finished Goods Storage</td>\n      <td>49</td>\n    </tr>\n    <tr>\n      <th>16</th>\n      <td>Mountain-200 Silver, 46</td>\n      <td>Finished Goods Storage</td>\n      <td>32</td>\n    </tr>\n    <tr>\n      <th>17</th>\n      <td>Mountain-300 Black, 44</td>\n      <td>Finished Goods Storage</td>\n      <td>32</td>\n    </tr>\n    <tr>\n      <th>18</th>\n      <td>Road-150 Red, 48</td>\n      <td>Finished Goods Storage</td>\n      <td>32</td>\n    </tr>\n    <tr>\n      <th>19</th>\n      <td>Road-450 Red, 44</td>\n      <td>Finished Goods Storage</td>\n      <td>30</td>\n    </tr>\n    <tr>\n      <th>20</th>\n      <td>Road-550-W Yellow, 44</td>\n      <td>Finished Goods Storage</td>\n      <td>30</td>\n    </tr>\n    <tr>\n      <th>21</th>\n      <td>Road-650 Red, 52</td>\n      <td>Finished Goods Storage</td>\n      <td>32</td>\n    </tr>\n    <tr>\n      <th>22</th>\n      <td>Short-Sleeve Classic Jersey, L</td>\n      <td>Finished Goods Storage</td>\n      <td>36</td>\n    </tr>\n    <tr>\n      <th>23</th>\n      <td>Short-Sleeve Classic Jersey, M</td>\n      <td>Finished Goods Storage</td>\n      <td>0</td>\n    </tr>\n    <tr>\n      <th>24</th>\n      <td>Touring-1000 Blue, 60</td>\n      <td>Finished Goods Storage</td>\n      <td>30</td>\n    </tr>\n    <tr>\n      <th>25</th>\n      <td>Touring-1000 Yellow, 54</td>\n      <td>Finished Goods Storage</td>\n      <td>35</td>\n    </tr>\n    <tr>\n      <th>26</th>\n      <td>Touring-2000 Blue, 54</td>\n      <td>Finished Goods Storage</td>\n      <td>30</td>\n    </tr>\n    <tr>\n      <th>27</th>\n      <td>Women's Tights, L</td>\n      <td>Finished Goods Storage</td>\n      <td>36</td>\n    </tr>\n    <tr>\n      <th>28</th>\n      <td>Women's Tights, M</td>\n      <td>Finished Goods Storage</td>\n      <td>0</td>\n    </tr>\n    <tr>\n      <th>29</th>\n      <td>Paint - Black</td>\n      <td>Paint</td>\n      <td>16</td>\n    </tr>\n    <tr>\n      <th>30</th>\n      <td>Paint - Blue</td>\n      <td>Paint</td>\n      <td>25</td>\n    </tr>\n    <tr>\n      <th>31</th>\n      <td>Paint - Red</td>\n      <td>Paint</td>\n      <td>28</td>\n    </tr>\n    <tr>\n      <th>32</th>\n      <td>Paint - Silver</td>\n      <td>Paint</td>\n      <td>4</td>\n    </tr>\n    <tr>\n      <th>33</th>\n      <td>Paint - Yellow</td>\n      <td>Paint</td>\n      <td>44</td>\n    </tr>\n    <tr>\n      <th>34</th>\n      <td>Paint - Black</td>\n      <td>Paint Shop</td>\n      <td>17</td>\n    </tr>\n    <tr>\n      <th>35</th>\n      <td>Paint - Blue</td>\n      <td>Paint Shop</td>\n      <td>49</td>\n    </tr>\n    <tr>\n      <th>36</th>\n      <td>Paint - Red</td>\n      <td>Paint Shop</td>\n      <td>41</td>\n    </tr>\n    <tr>\n      <th>37</th>\n      <td>Paint - Silver</td>\n      <td>Paint Shop</td>\n      <td>49</td>\n    </tr>\n    <tr>\n      <th>38</th>\n      <td>Paint - Yellow</td>\n      <td>Paint Shop</td>\n      <td>30</td>\n    </tr>\n    <tr>\n      <th>39</th>\n      <td>Paint - Black</td>\n      <td>Paint Storage</td>\n      <td>14</td>\n    </tr>\n    <tr>\n      <th>40</th>\n      <td>Paint - Blue</td>\n      <td>Paint Storage</td>\n      <td>35</td>\n    </tr>\n    <tr>\n      <th>41</th>\n      <td>Paint - Red</td>\n      <td>Paint Storage</td>\n      <td>24</td>\n    </tr>\n    <tr>\n      <th>42</th>\n      <td>Paint - Silver</td>\n      <td>Paint Storage</td>\n      <td>12</td>\n    </tr>\n    <tr>\n      <th>43</th>\n      <td>Paint - Yellow</td>\n      <td>Paint Storage</td>\n      <td>25</td>\n    </tr>\n  </tbody>\n</table>\n</div>"
     },
     "metadata": {},
     "output_type": "display_data"
    }
   ],
   "source": [
    "low_inventory_df = pd.read_sql(\"SELECT p.Name AS Product, \"\n",
    "                                      \"l.Name AS Location, \"\n",
    "                                      \"SUM(prod_inv.Quantity) AS TotalQuantity \"\n",
    "                                      \"FROM Production.ProductInventory prod_inv \"\n",
    "                                      \"INNER JOIN Production.[Location] l \"\n",
    "                                      \"ON prod_inv.LocationID = l.LocationID \"\n",
    "                                      \"INNER JOIN Production.Product p \"\n",
    "                                      \"ON prod_inv.ProductID = p.ProductID \"\n",
    "                                      \"GROUP BY l.Name, p.Name \"\n",
    "                                      \"HAVING SUM(prod_inv.Quantity) < 50 \"\n",
    "                                      \"ORDER BY l.Name, p.Name;\", conn)\n",
    "\n",
    "display(low_inventory_df)"
   ]
  },
  {
   "cell_type": "markdown",
   "metadata": {
    "pycharm": {
     "name": "#%% md\n"
    }
   },
   "source": [
    "2. Retrieve all products (Name and Model) and their inventory locations where safety stock level falls below or equal to the number of available units."
   ]
  },
  {
   "cell_type": "code",
   "execution_count": 6,
   "metadata": {
    "pycharm": {
     "name": "#%%\n"
    }
   },
   "outputs": [
    {
     "data": {
      "text/plain": "                 Location                     ProductName  \\\n0          Final Assembly         HL Mountain Seat/Saddle   \n1          Final Assembly         Touring-1000 Yellow, 54   \n2  Finished Goods Storage         Touring-1000 Yellow, 54   \n3  Finished Goods Storage               Women's Tights, M   \n4  Finished Goods Storage           Half-Finger Gloves, M   \n5  Finished Goods Storage             Hitch Rack - 4-Bike   \n6  Finished Goods Storage  Short-Sleeve Classic Jersey, M   \n7   Miscellaneous Storage         HL Mountain Seat/Saddle   \n8             Subassembly         HL Mountain Seat/Saddle   \n\n                         Model  SafetyStockLevel  ReorderPoint  \\\n0    HL Mountain Seat/Saddle 2               500           375   \n1                 Touring-1000               100            75   \n2                 Touring-1000               100            75   \n3               Women's Tights                 4             3   \n4           Half-Finger Gloves                 4             3   \n5          Hitch Rack - 4-Bike                 4             3   \n6  Short-Sleeve Classic Jersey                 4             3   \n7    HL Mountain Seat/Saddle 2               500           375   \n8    HL Mountain Seat/Saddle 2               500           375   \n\n   TotalAvailableQty  UnitsToReorder  \n0                355              20  \n1                 75               0  \n2                 75               0  \n3                  0               3  \n4                  0               3  \n5                  0               3  \n6                  0               3  \n7                355              20  \n8                355              20  ",
      "text/html": "<div>\n<style scoped>\n    .dataframe tbody tr th:only-of-type {\n        vertical-align: middle;\n    }\n\n    .dataframe tbody tr th {\n        vertical-align: top;\n    }\n\n    .dataframe thead th {\n        text-align: right;\n    }\n</style>\n<table border=\"1\" class=\"dataframe\">\n  <thead>\n    <tr style=\"text-align: right;\">\n      <th></th>\n      <th>Location</th>\n      <th>ProductName</th>\n      <th>Model</th>\n      <th>SafetyStockLevel</th>\n      <th>ReorderPoint</th>\n      <th>TotalAvailableQty</th>\n      <th>UnitsToReorder</th>\n    </tr>\n  </thead>\n  <tbody>\n    <tr>\n      <th>0</th>\n      <td>Final Assembly</td>\n      <td>HL Mountain Seat/Saddle</td>\n      <td>HL Mountain Seat/Saddle 2</td>\n      <td>500</td>\n      <td>375</td>\n      <td>355</td>\n      <td>20</td>\n    </tr>\n    <tr>\n      <th>1</th>\n      <td>Final Assembly</td>\n      <td>Touring-1000 Yellow, 54</td>\n      <td>Touring-1000</td>\n      <td>100</td>\n      <td>75</td>\n      <td>75</td>\n      <td>0</td>\n    </tr>\n    <tr>\n      <th>2</th>\n      <td>Finished Goods Storage</td>\n      <td>Touring-1000 Yellow, 54</td>\n      <td>Touring-1000</td>\n      <td>100</td>\n      <td>75</td>\n      <td>75</td>\n      <td>0</td>\n    </tr>\n    <tr>\n      <th>3</th>\n      <td>Finished Goods Storage</td>\n      <td>Women's Tights, M</td>\n      <td>Women's Tights</td>\n      <td>4</td>\n      <td>3</td>\n      <td>0</td>\n      <td>3</td>\n    </tr>\n    <tr>\n      <th>4</th>\n      <td>Finished Goods Storage</td>\n      <td>Half-Finger Gloves, M</td>\n      <td>Half-Finger Gloves</td>\n      <td>4</td>\n      <td>3</td>\n      <td>0</td>\n      <td>3</td>\n    </tr>\n    <tr>\n      <th>5</th>\n      <td>Finished Goods Storage</td>\n      <td>Hitch Rack - 4-Bike</td>\n      <td>Hitch Rack - 4-Bike</td>\n      <td>4</td>\n      <td>3</td>\n      <td>0</td>\n      <td>3</td>\n    </tr>\n    <tr>\n      <th>6</th>\n      <td>Finished Goods Storage</td>\n      <td>Short-Sleeve Classic Jersey, M</td>\n      <td>Short-Sleeve Classic Jersey</td>\n      <td>4</td>\n      <td>3</td>\n      <td>0</td>\n      <td>3</td>\n    </tr>\n    <tr>\n      <th>7</th>\n      <td>Miscellaneous Storage</td>\n      <td>HL Mountain Seat/Saddle</td>\n      <td>HL Mountain Seat/Saddle 2</td>\n      <td>500</td>\n      <td>375</td>\n      <td>355</td>\n      <td>20</td>\n    </tr>\n    <tr>\n      <th>8</th>\n      <td>Subassembly</td>\n      <td>HL Mountain Seat/Saddle</td>\n      <td>HL Mountain Seat/Saddle 2</td>\n      <td>500</td>\n      <td>375</td>\n      <td>355</td>\n      <td>20</td>\n    </tr>\n  </tbody>\n</table>\n</div>"
     },
     "metadata": {},
     "output_type": "display_data"
    }
   ],
   "source": [
    "products_to_order_df = pd.read_sql('SELECT l.Name AS Location, '\n",
    "                 'p.Name AS ProductName, '\n",
    "                 'pm.Name AS Model, '\n",
    "                 'p.SafetyStockLevel, '\n",
    "                 'p.ReorderPoint, '\n",
    "                 'TotalAvailableQty, '\n",
    "                 'p.ReorderPoint - TotalAvailableQty AS UnitsToReorder '\n",
    "                 'FROM Production.Product p '\n",
    "                 'INNER JOIN (SELECT ProductID, '\n",
    "                 'LocationID, '\n",
    "                 'SUM(Quantity) OVER(PARTITION BY ProductID) AS TotalAvailableQty '\n",
    "                 'FROM Production.ProductInventory) prod_inv '\n",
    "                 'ON prod_inv.ProductID = p.ProductID '\n",
    "                 'INNER JOIN Production.ProductModel pm '\n",
    "                 'ON pm.ProductModelID = p.ProductModelID '\n",
    "                 'INNER JOIN Production.[Location] l '\n",
    "                 'ON prod_inv.LocationID = l.LocationID '\n",
    "                 'WHERE TotalAvailableQty <= ReorderPoint '\n",
    "                                   'ORDER BY l.Name;', conn)\n",
    "\n",
    "display(products_to_order_df)"
   ]
  },
  {
   "cell_type": "markdown",
   "metadata": {},
   "source": [
    "3. Retrieve all products (ProductID, Name, Model) that do not have any orders."
   ]
  },
  {
   "cell_type": "code",
   "execution_count": 5,
   "metadata": {
    "pycharm": {
     "name": "#%%\n"
    }
   },
   "outputs": [
    {
     "data": {
      "text/html": [
       "<div>\n",
       "<style scoped>\n",
       "    .dataframe tbody tr th:only-of-type {\n",
       "        vertical-align: middle;\n",
       "    }\n",
       "\n",
       "    .dataframe tbody tr th {\n",
       "        vertical-align: top;\n",
       "    }\n",
       "\n",
       "    .dataframe thead th {\n",
       "        text-align: right;\n",
       "    }\n",
       "</style>\n",
       "<table border=\"1\" class=\"dataframe\">\n",
       "  <thead>\n",
       "    <tr style=\"text-align: right;\">\n",
       "      <th></th>\n",
       "      <th>ProductName</th>\n",
       "      <th>Model</th>\n",
       "      <th>TotalOrderedQty</th>\n",
       "    </tr>\n",
       "  </thead>\n",
       "  <tbody>\n",
       "    <tr>\n",
       "      <th>0</th>\n",
       "      <td>Front Brakes</td>\n",
       "      <td>Front Brakes</td>\n",
       "      <td>None</td>\n",
       "    </tr>\n",
       "    <tr>\n",
       "      <th>1</th>\n",
       "      <td>HL Mountain Tire</td>\n",
       "      <td>HL Mountain Tire</td>\n",
       "      <td>None</td>\n",
       "    </tr>\n",
       "    <tr>\n",
       "      <th>2</th>\n",
       "      <td>HL Road Pedal</td>\n",
       "      <td>HL Road Pedal</td>\n",
       "      <td>None</td>\n",
       "    </tr>\n",
       "    <tr>\n",
       "      <th>3</th>\n",
       "      <td>HL Road Tire</td>\n",
       "      <td>HL Road Tire</td>\n",
       "      <td>None</td>\n",
       "    </tr>\n",
       "    <tr>\n",
       "      <th>4</th>\n",
       "      <td>HL Touring Seat/Saddle</td>\n",
       "      <td>HL Touring Seat/Saddle</td>\n",
       "      <td>None</td>\n",
       "    </tr>\n",
       "    <tr>\n",
       "      <th>5</th>\n",
       "      <td>LL Mountain Seat/Saddle</td>\n",
       "      <td>LL Mountain Seat/Saddle 2</td>\n",
       "      <td>None</td>\n",
       "    </tr>\n",
       "    <tr>\n",
       "      <th>6</th>\n",
       "      <td>LL Mountain Tire</td>\n",
       "      <td>LL Mountain Tire</td>\n",
       "      <td>None</td>\n",
       "    </tr>\n",
       "    <tr>\n",
       "      <th>7</th>\n",
       "      <td>LL Road Seat/Saddle</td>\n",
       "      <td>LL Road Seat/Saddle 1</td>\n",
       "      <td>None</td>\n",
       "    </tr>\n",
       "    <tr>\n",
       "      <th>8</th>\n",
       "      <td>LL Road Tire</td>\n",
       "      <td>LL Road Tire</td>\n",
       "      <td>None</td>\n",
       "    </tr>\n",
       "    <tr>\n",
       "      <th>9</th>\n",
       "      <td>LL Touring Seat/Saddle</td>\n",
       "      <td>LL Touring Seat/Saddle</td>\n",
       "      <td>None</td>\n",
       "    </tr>\n",
       "    <tr>\n",
       "      <th>10</th>\n",
       "      <td>ML Mountain Tire</td>\n",
       "      <td>ML Mountain Tire</td>\n",
       "      <td>None</td>\n",
       "    </tr>\n",
       "    <tr>\n",
       "      <th>11</th>\n",
       "      <td>ML Road Seat/Saddle</td>\n",
       "      <td>ML Road Seat/Saddle 2</td>\n",
       "      <td>None</td>\n",
       "    </tr>\n",
       "    <tr>\n",
       "      <th>12</th>\n",
       "      <td>ML Road Tire</td>\n",
       "      <td>ML Road Tire</td>\n",
       "      <td>None</td>\n",
       "    </tr>\n",
       "    <tr>\n",
       "      <th>13</th>\n",
       "      <td>Mountain Tire Tube</td>\n",
       "      <td>Mountain Tire Tube</td>\n",
       "      <td>None</td>\n",
       "    </tr>\n",
       "    <tr>\n",
       "      <th>14</th>\n",
       "      <td>Rear Brakes</td>\n",
       "      <td>Rear Brakes</td>\n",
       "      <td>None</td>\n",
       "    </tr>\n",
       "    <tr>\n",
       "      <th>15</th>\n",
       "      <td>Road Tire Tube</td>\n",
       "      <td>Road Tire Tube</td>\n",
       "      <td>None</td>\n",
       "    </tr>\n",
       "    <tr>\n",
       "      <th>16</th>\n",
       "      <td>Touring Pedal</td>\n",
       "      <td>Touring Pedal</td>\n",
       "      <td>None</td>\n",
       "    </tr>\n",
       "    <tr>\n",
       "      <th>17</th>\n",
       "      <td>Touring Tire</td>\n",
       "      <td>Touring Tire</td>\n",
       "      <td>None</td>\n",
       "    </tr>\n",
       "    <tr>\n",
       "      <th>18</th>\n",
       "      <td>Touring Tire Tube</td>\n",
       "      <td>Touring Tire Tube</td>\n",
       "      <td>None</td>\n",
       "    </tr>\n",
       "  </tbody>\n",
       "</table>\n",
       "</div>"
      ],
      "text/plain": [
       "                ProductName                      Model TotalOrderedQty\n",
       "0              Front Brakes               Front Brakes            None\n",
       "1          HL Mountain Tire           HL Mountain Tire            None\n",
       "2             HL Road Pedal              HL Road Pedal            None\n",
       "3              HL Road Tire               HL Road Tire            None\n",
       "4    HL Touring Seat/Saddle     HL Touring Seat/Saddle            None\n",
       "5   LL Mountain Seat/Saddle  LL Mountain Seat/Saddle 2            None\n",
       "6          LL Mountain Tire           LL Mountain Tire            None\n",
       "7       LL Road Seat/Saddle      LL Road Seat/Saddle 1            None\n",
       "8              LL Road Tire               LL Road Tire            None\n",
       "9    LL Touring Seat/Saddle     LL Touring Seat/Saddle            None\n",
       "10         ML Mountain Tire           ML Mountain Tire            None\n",
       "11      ML Road Seat/Saddle      ML Road Seat/Saddle 2            None\n",
       "12             ML Road Tire               ML Road Tire            None\n",
       "13       Mountain Tire Tube         Mountain Tire Tube            None\n",
       "14              Rear Brakes                Rear Brakes            None\n",
       "15           Road Tire Tube             Road Tire Tube            None\n",
       "16            Touring Pedal              Touring Pedal            None\n",
       "17             Touring Tire               Touring Tire            None\n",
       "18        Touring Tire Tube          Touring Tire Tube            None"
      ]
     },
     "metadata": {},
     "output_type": "display_data"
    }
   ],
   "source": [
    "orders_check_df = pd.read_sql(\"SELECT p.Name AS ProductName, \"\n",
    "                                    \"pm.Name AS Model, \"\n",
    "                                    \"SUM(pv.OnOrderQty) AS TotalOrderedQty \"\n",
    "                                    \"FROM Production.Product p \"\n",
    "                                    \"INNER JOIN Production.ProductModel pm \"\n",
    "                                    \"ON pm.ProductModelID = p.ProductModelID \"\n",
    "                                    \"INNER JOIN Purchasing.ProductVendor pv \"\n",
    "                                    \"ON pv.ProductID = p.ProductID \"\n",
    "                                    \"GROUP BY p.Name, pm.Name \"\n",
    "                                    \"HAVING SUM(pv.OnOrderQty) IS NULL \"\n",
    "                                    \"ORDER BY p.Name;\", conn)\n",
    "\n",
    "display(orders_check_df)\n",
    "\n"
   ]
  }
 ],
 "metadata": {
  "kernelspec": {
   "display_name": "Python 3",
   "language": "python",
   "name": "python3"
  },
  "language_info": {
   "codemirror_mode": {
    "name": "ipython",
    "version": 3
   },
   "file_extension": ".py",
   "mimetype": "text/x-python",
   "name": "python",
   "nbconvert_exporter": "python",
   "pygments_lexer": "ipython3",
   "version": "3.9.0"
  }
 },
 "nbformat": 4,
 "nbformat_minor": 1
}