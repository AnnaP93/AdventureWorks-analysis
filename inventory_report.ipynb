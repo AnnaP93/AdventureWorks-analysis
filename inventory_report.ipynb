{
 "cells": [
  {
   "cell_type": "code",
   "execution_count": null,
   "metadata": {},
   "outputs": [],
   "source": [
    "import pyodbc\n",
    "import os\n",
    "from IPython.core.display import display\n",
    "from dotenv import load_dotenv\n",
    "import pandas as pd"
   ]
  },
  {
   "cell_type": "markdown",
   "metadata": {},
   "source": [
    "Connecting to SQL Server"
   ]
  },
  {
   "cell_type": "code",
   "execution_count": null,
   "metadata": {
    "pycharm": {
     "name": "#%%\n"
    }
   },
   "outputs": [],
   "source": [
    "load_dotenv('credentials.env')\n",
    "\n",
    "conn = pyodbc.connect(\n",
    "    'DRIVER={ODBC Driver 17 for SQL Server};'\n",
    "    'SERVER='+os.environ.get('server')+';'\n",
    "    'DATABASE='+os.environ.get('database')+';'\n",
    "    'UID='+ os.environ.get('uid') +';'\n",
    "    'PWD='+ os.environ.get('pwd')+';')"
   ]
  },
  {
   "cell_type": "markdown",
   "metadata": {
    "pycharm": {
     "name": "#%% md\n"
    }
   },
   "source": [
    "1. Retrieve the products (and their respective storage locations) that are running low (under 50 units)."
   ]
  },
  {
   "cell_type": "code",
   "execution_count": null,
   "metadata": {
    "pycharm": {
     "name": "#%%\n"
    }
   },
   "outputs": [],
   "source": [
    "low_inventory_df = pd.read_sql(\"SELECT l.Name AS Location, \"\n",
    "                               \"p.Name AS Product, \"\n",
    "                               \"SUM(prod_inv.Quantity) AS TotalQuantity \"\n",
    "                               \"FROM Production.ProductInventory prod_inv \"\n",
    "                               \"INNER JOIN Production.[Location] l \"\n",
    "                               \"ON prod_inv.LocationID = l.LocationID \"\n",
    "                               \"INNER JOIN Production.Product p \"\n",
    "                               \"ON prod_inv.ProductID = p.ProductID \"\n",
    "                               \"GROUP BY l.Name, p.Name \"\n",
    "                               \"HAVING SUM(prod_inv.Quantity) < 50 \"\n",
    "                               \"ORDER BY Location, Product;\", conn)\n",
    "\n",
    "display(low_inventory_df)"
   ]
  },
  {
   "cell_type": "markdown",
   "metadata": {
    "pycharm": {
     "name": "#%% md\n"
    }
   },
   "source": [
    "2. Retrieve all products (Name and Model) and their inventory locations where safety stock level falls below or equal to the number of available units."
   ]
  },
  {
   "cell_type": "code",
   "execution_count": null,
   "metadata": {
    "pycharm": {
     "name": "#%%\n"
    }
   },
   "outputs": [],
   "source": [
    "products_to_order_df = pd.read_sql('SELECT l.Name AS Location, '\n",
    "                 'p.Name AS ProductName, '\n",
    "                 'pm.Name AS Model, '\n",
    "                 'p.SafetyStockLevel, '\n",
    "                 'p.ReorderPoint, '\n",
    "                 'TotalAvailableQty, '\n",
    "                 'p.ReorderPoint - TotalAvailableQty AS UnitsToReorder '\n",
    "                 'FROM Production.Product p '\n",
    "                 'INNER JOIN (SELECT ProductID, '\n",
    "                 'LocationID, '\n",
    "                 'SUM(Quantity) OVER(PARTITION BY ProductID) AS TotalAvailableQty '\n",
    "                 'FROM Production.ProductInventory) prod_inv '\n",
    "                 'ON prod_inv.ProductID = p.ProductID '\n",
    "                 'INNER JOIN Production.ProductModel pm '\n",
    "                 'ON pm.ProductModelID = p.ProductModelID '\n",
    "                 'INNER JOIN Production.[Location] l '\n",
    "                 'ON prod_inv.LocationID = l.LocationID '\n",
    "                 'WHERE TotalAvailableQty <= ReorderPoint '\n",
    "                 'ORDER BY Location DESC;', conn)\n",
    "\n",
    "display(products_to_order_df)"
   ]
  },
  {
   "cell_type": "markdown",
   "metadata": {},
   "source": [
    "3. Retrieve all products (ProductID, Name, Model) that do not have any orders."
   ]
  },
  {
   "cell_type": "code",
   "execution_count": 13,
   "metadata": {
    "pycharm": {
     "name": "#%%\n"
    }
   },
   "outputs": [
    {
     "data": {
      "text/html": [
       "<div>\n",
       "<style scoped>\n",
       "    .dataframe tbody tr th:only-of-type {\n",
       "        vertical-align: middle;\n",
       "    }\n",
       "\n",
       "    .dataframe tbody tr th {\n",
       "        vertical-align: top;\n",
       "    }\n",
       "\n",
       "    .dataframe thead th {\n",
       "        text-align: right;\n",
       "    }\n",
       "</style>\n",
       "<table border=\"1\" class=\"dataframe\">\n",
       "  <thead>\n",
       "    <tr style=\"text-align: right;\">\n",
       "      <th></th>\n",
       "      <th>ProductName</th>\n",
       "      <th>Model</th>\n",
       "    </tr>\n",
       "  </thead>\n",
       "  <tbody>\n",
       "    <tr>\n",
       "      <th>0</th>\n",
       "      <td>Front Brakes</td>\n",
       "      <td>Front Brakes</td>\n",
       "    </tr>\n",
       "    <tr>\n",
       "      <th>1</th>\n",
       "      <td>HL Mountain Tire</td>\n",
       "      <td>HL Mountain Tire</td>\n",
       "    </tr>\n",
       "    <tr>\n",
       "      <th>2</th>\n",
       "      <td>HL Road Pedal</td>\n",
       "      <td>HL Road Pedal</td>\n",
       "    </tr>\n",
       "    <tr>\n",
       "      <th>3</th>\n",
       "      <td>HL Road Tire</td>\n",
       "      <td>HL Road Tire</td>\n",
       "    </tr>\n",
       "    <tr>\n",
       "      <th>4</th>\n",
       "      <td>HL Touring Seat/Saddle</td>\n",
       "      <td>HL Touring Seat/Saddle</td>\n",
       "    </tr>\n",
       "    <tr>\n",
       "      <th>5</th>\n",
       "      <td>LL Mountain Seat/Saddle</td>\n",
       "      <td>LL Mountain Seat/Saddle 2</td>\n",
       "    </tr>\n",
       "    <tr>\n",
       "      <th>6</th>\n",
       "      <td>LL Mountain Tire</td>\n",
       "      <td>LL Mountain Tire</td>\n",
       "    </tr>\n",
       "    <tr>\n",
       "      <th>7</th>\n",
       "      <td>LL Road Seat/Saddle</td>\n",
       "      <td>LL Road Seat/Saddle 1</td>\n",
       "    </tr>\n",
       "    <tr>\n",
       "      <th>8</th>\n",
       "      <td>LL Road Tire</td>\n",
       "      <td>LL Road Tire</td>\n",
       "    </tr>\n",
       "    <tr>\n",
       "      <th>9</th>\n",
       "      <td>LL Touring Seat/Saddle</td>\n",
       "      <td>LL Touring Seat/Saddle</td>\n",
       "    </tr>\n",
       "    <tr>\n",
       "      <th>10</th>\n",
       "      <td>ML Mountain Tire</td>\n",
       "      <td>ML Mountain Tire</td>\n",
       "    </tr>\n",
       "    <tr>\n",
       "      <th>11</th>\n",
       "      <td>ML Road Seat/Saddle</td>\n",
       "      <td>ML Road Seat/Saddle 2</td>\n",
       "    </tr>\n",
       "    <tr>\n",
       "      <th>12</th>\n",
       "      <td>ML Road Tire</td>\n",
       "      <td>ML Road Tire</td>\n",
       "    </tr>\n",
       "    <tr>\n",
       "      <th>13</th>\n",
       "      <td>Mountain Tire Tube</td>\n",
       "      <td>Mountain Tire Tube</td>\n",
       "    </tr>\n",
       "    <tr>\n",
       "      <th>14</th>\n",
       "      <td>Rear Brakes</td>\n",
       "      <td>Rear Brakes</td>\n",
       "    </tr>\n",
       "    <tr>\n",
       "      <th>15</th>\n",
       "      <td>Road Tire Tube</td>\n",
       "      <td>Road Tire Tube</td>\n",
       "    </tr>\n",
       "    <tr>\n",
       "      <th>16</th>\n",
       "      <td>Touring Pedal</td>\n",
       "      <td>Touring Pedal</td>\n",
       "    </tr>\n",
       "    <tr>\n",
       "      <th>17</th>\n",
       "      <td>Touring Tire</td>\n",
       "      <td>Touring Tire</td>\n",
       "    </tr>\n",
       "    <tr>\n",
       "      <th>18</th>\n",
       "      <td>Touring Tire Tube</td>\n",
       "      <td>Touring Tire Tube</td>\n",
       "    </tr>\n",
       "  </tbody>\n",
       "</table>\n",
       "</div>"
      ],
      "text/plain": [
       "                ProductName                      Model\n",
       "0              Front Brakes               Front Brakes\n",
       "1          HL Mountain Tire           HL Mountain Tire\n",
       "2             HL Road Pedal              HL Road Pedal\n",
       "3              HL Road Tire               HL Road Tire\n",
       "4    HL Touring Seat/Saddle     HL Touring Seat/Saddle\n",
       "5   LL Mountain Seat/Saddle  LL Mountain Seat/Saddle 2\n",
       "6          LL Mountain Tire           LL Mountain Tire\n",
       "7       LL Road Seat/Saddle      LL Road Seat/Saddle 1\n",
       "8              LL Road Tire               LL Road Tire\n",
       "9    LL Touring Seat/Saddle     LL Touring Seat/Saddle\n",
       "10         ML Mountain Tire           ML Mountain Tire\n",
       "11      ML Road Seat/Saddle      ML Road Seat/Saddle 2\n",
       "12             ML Road Tire               ML Road Tire\n",
       "13       Mountain Tire Tube         Mountain Tire Tube\n",
       "14              Rear Brakes                Rear Brakes\n",
       "15           Road Tire Tube             Road Tire Tube\n",
       "16            Touring Pedal              Touring Pedal\n",
       "17             Touring Tire               Touring Tire\n",
       "18        Touring Tire Tube          Touring Tire Tube"
      ]
     },
     "metadata": {},
     "output_type": "display_data"
    }
   ],
   "source": [
    "orders_check_df = pd.read_sql(\"SELECT p.Name AS ProductName, \"\n",
    "                                    \"pm.Name AS Model \"\n",
    "                                    \"FROM Production.Product p \"\n",
    "                                    \"INNER JOIN Production.ProductModel pm \"\n",
    "                                    \"ON pm.ProductModelID = p.ProductModelID \"\n",
    "                                    \"INNER JOIN Purchasing.ProductVendor pv \"\n",
    "                                    \"ON pv.ProductID = p.ProductID \"\n",
    "                                    \"GROUP BY p.Name, pm.Name \"\n",
    "                                    \"HAVING SUM(pv.OnOrderQty) IS NULL \"\n",
    "                                    \"ORDER BY p.Name ASC;\", conn)\n",
    "display(orders_check_df)\n"
   ]
  },
  {
   "cell_type": "code",
   "execution_count": null,
   "metadata": {},
   "outputs": [],
   "source": []
  }
 ],
 "metadata": {
  "kernelspec": {
   "display_name": "Python 3",
   "language": "python",
   "name": "python3"
  },
  "language_info": {
   "codemirror_mode": {
    "name": "ipython",
    "version": 3
   },
   "file_extension": ".py",
   "mimetype": "text/x-python",
   "name": "python",
   "nbconvert_exporter": "python",
   "pygments_lexer": "ipython3",
   "version": "3.9.0"
  }
 },
 "nbformat": 4,
 "nbformat_minor": 1
}